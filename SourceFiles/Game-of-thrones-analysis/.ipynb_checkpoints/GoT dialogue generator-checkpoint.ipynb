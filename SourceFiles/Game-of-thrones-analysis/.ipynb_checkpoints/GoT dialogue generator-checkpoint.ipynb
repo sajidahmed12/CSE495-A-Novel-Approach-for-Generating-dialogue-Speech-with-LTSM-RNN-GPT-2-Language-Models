{
 "cells": [
  {
   "cell_type": "code",
   "execution_count": 4,
   "metadata": {},
   "outputs": [],
   "source": [
    "from fastai import *\n",
    "from fastai.text import * "
   ]
  },
  {
   "cell_type": "code",
   "execution_count": 5,
   "metadata": {},
   "outputs": [],
   "source": [
    "import pandas as pd"
   ]
  },
  {
   "cell_type": "code",
   "execution_count": 6,
   "metadata": {},
   "outputs": [],
   "source": [
    "import numpy as np"
   ]
  },
  {
   "cell_type": "code",
   "execution_count": 10,
   "metadata": {},
   "outputs": [],
   "source": [
    "df = pd.read_csv('CSV/Got_01.csv')"
   ]
  },
  {
   "cell_type": "code",
   "execution_count": 11,
   "metadata": {},
   "outputs": [
    {
     "data": {
      "text/html": [
       "<div>\n",
       "<style scoped>\n",
       "    .dataframe tbody tr th:only-of-type {\n",
       "        vertical-align: middle;\n",
       "    }\n",
       "\n",
       "    .dataframe tbody tr th {\n",
       "        vertical-align: top;\n",
       "    }\n",
       "\n",
       "    .dataframe thead th {\n",
       "        text-align: right;\n",
       "    }\n",
       "</style>\n",
       "<table border=\"1\" class=\"dataframe\">\n",
       "  <thead>\n",
       "    <tr style=\"text-align: right;\">\n",
       "      <th></th>\n",
       "      <th>Character</th>\n",
       "      <th>dialogue</th>\n",
       "      <th>season</th>\n",
       "      <th>chapter</th>\n",
       "      <th>to</th>\n",
       "      <th>ProD</th>\n",
       "    </tr>\n",
       "  </thead>\n",
       "  <tbody>\n",
       "    <tr>\n",
       "      <th>0</th>\n",
       "      <td>Waymar Royce</td>\n",
       "      <td>What d'you expect? They're savages. One lot s...</td>\n",
       "      <td>1</td>\n",
       "      <td>1</td>\n",
       "      <td>Will</td>\n",
       "      <td>Waymar Royce,Will, What d'you expect? They're ...</td>\n",
       "    </tr>\n",
       "    <tr>\n",
       "      <th>1</th>\n",
       "      <td>Will</td>\n",
       "      <td>I've never seen wildlings do a thing like thi...</td>\n",
       "      <td>1</td>\n",
       "      <td>1</td>\n",
       "      <td>Waymar Royce</td>\n",
       "      <td>Will,Waymar Royce, I've never seen wildlings d...</td>\n",
       "    </tr>\n",
       "    <tr>\n",
       "      <th>2</th>\n",
       "      <td>Waymar Royce</td>\n",
       "      <td>How close did you get?</td>\n",
       "      <td>1</td>\n",
       "      <td>1</td>\n",
       "      <td>Will</td>\n",
       "      <td>Waymar Royce,Will, How close did you get?</td>\n",
       "    </tr>\n",
       "    <tr>\n",
       "      <th>3</th>\n",
       "      <td>Will</td>\n",
       "      <td>Close as any man would.</td>\n",
       "      <td>1</td>\n",
       "      <td>1</td>\n",
       "      <td>Gared</td>\n",
       "      <td>Will,Gared, Close as any man would.</td>\n",
       "    </tr>\n",
       "    <tr>\n",
       "      <th>4</th>\n",
       "      <td>Gared</td>\n",
       "      <td>We should head back to the wall.</td>\n",
       "      <td>1</td>\n",
       "      <td>1</td>\n",
       "      <td>Waymar Royce</td>\n",
       "      <td>Gared,Waymar Royce, We should head back to the...</td>\n",
       "    </tr>\n",
       "  </tbody>\n",
       "</table>\n",
       "</div>"
      ],
      "text/plain": [
       "      Character                                           dialogue  season  \\\n",
       "0  Waymar Royce   What d'you expect? They're savages. One lot s...       1   \n",
       "1          Will   I've never seen wildlings do a thing like thi...       1   \n",
       "2  Waymar Royce                             How close did you get?       1   \n",
       "3          Will                            Close as any man would.       1   \n",
       "4         Gared                   We should head back to the wall.       1   \n",
       "\n",
       "   chapter            to                                               ProD  \n",
       "0        1          Will  Waymar Royce,Will, What d'you expect? They're ...  \n",
       "1        1  Waymar Royce  Will,Waymar Royce, I've never seen wildlings d...  \n",
       "2        1          Will          Waymar Royce,Will, How close did you get?  \n",
       "3        1         Gared                Will,Gared, Close as any man would.  \n",
       "4        1  Waymar Royce  Gared,Waymar Royce, We should head back to the...  "
      ]
     },
     "execution_count": 11,
     "metadata": {},
     "output_type": "execute_result"
    }
   ],
   "source": [
    "df.head()"
   ]
  },
  {
   "cell_type": "code",
   "execution_count": 52,
   "metadata": {},
   "outputs": [],
   "source": [
    "df['dialogue'] = df['dialogue'].str.lower()"
   ]
  },
  {
   "cell_type": "code",
   "execution_count": 53,
   "metadata": {},
   "outputs": [],
   "source": [
    "valid_pct = 0.20 #validation percent\n",
    "df = df.iloc[np.random.permutation(len(df))]\n",
    "cut = int(valid_pct * len(df)) + 1\n",
    "train_df, valid_df = df[cut:], df[:cut]"
   ]
  },
  {
   "cell_type": "code",
   "execution_count": 54,
   "metadata": {},
   "outputs": [
    {
     "data": {
      "text/plain": [
       "(11979, 2996)"
      ]
     },
     "execution_count": 54,
     "metadata": {},
     "output_type": "execute_result"
    }
   ],
   "source": [
    "len(train_df), len(valid_df)"
   ]
  },
  {
   "cell_type": "code",
   "execution_count": 55,
   "metadata": {},
   "outputs": [],
   "source": [
    "nan_rows = df[df['dialogue'].isnull()]"
   ]
  },
  {
   "cell_type": "code",
   "execution_count": 58,
   "metadata": {},
   "outputs": [
    {
     "data": {
      "text/html": [
       "<div>\n",
       "<style scoped>\n",
       "    .dataframe tbody tr th:only-of-type {\n",
       "        vertical-align: middle;\n",
       "    }\n",
       "\n",
       "    .dataframe tbody tr th {\n",
       "        vertical-align: top;\n",
       "    }\n",
       "\n",
       "    .dataframe thead th {\n",
       "        text-align: right;\n",
       "    }\n",
       "</style>\n",
       "<table border=\"1\" class=\"dataframe\">\n",
       "  <thead>\n",
       "    <tr style=\"text-align: right;\">\n",
       "      <th></th>\n",
       "      <th>Character</th>\n",
       "      <th>dialogue</th>\n",
       "      <th>season</th>\n",
       "      <th>chapter</th>\n",
       "      <th>to</th>\n",
       "      <th>ProD</th>\n",
       "    </tr>\n",
       "  </thead>\n",
       "  <tbody>\n",
       "  </tbody>\n",
       "</table>\n",
       "</div>"
      ],
      "text/plain": [
       "Empty DataFrame\n",
       "Columns: [Character, dialogue, season, chapter, to, ProD]\n",
       "Index: []"
      ]
     },
     "execution_count": 58,
     "metadata": {},
     "output_type": "execute_result"
    }
   ],
   "source": [
    "nan_rows"
   ]
  },
  {
   "cell_type": "code",
   "execution_count": 62,
   "metadata": {},
   "outputs": [],
   "source": [
    "data_lm = TextLMDataBunch.from_df('data', train_df, valid_df, text_cols='dialogue',label_cols='Character')"
   ]
  },
  {
   "cell_type": "code",
   "execution_count": 63,
   "metadata": {},
   "outputs": [],
   "source": [
    "#data_clas = TextClasDataBunch.from_df('data', train_df, valid_df, text_cols='text', label_cols='author', vocab=data_lm.train_ds.vocab, bs=32)"
   ]
  },
  {
   "cell_type": "code",
   "execution_count": 64,
   "metadata": {},
   "outputs": [
    {
     "data": {
      "text/html": [
       "<table border=\"1\" class=\"dataframe\">\n",
       "  <thead>\n",
       "    <tr style=\"text-align: left;\">\n",
       "      <th>epoch</th>\n",
       "      <th>train_loss</th>\n",
       "      <th>valid_loss</th>\n",
       "      <th>accuracy</th>\n",
       "      <th>time</th>\n",
       "    </tr>\n",
       "  </thead>\n",
       "  <tbody>\n",
       "    <tr>\n",
       "      <td>0</td>\n",
       "      <td>5.476201</td>\n",
       "      <td>4.817156</td>\n",
       "      <td>0.178534</td>\n",
       "      <td>00:06</td>\n",
       "    </tr>\n",
       "    <tr>\n",
       "      <td>1</td>\n",
       "      <td>4.688523</td>\n",
       "      <td>3.890144</td>\n",
       "      <td>0.277567</td>\n",
       "      <td>00:06</td>\n",
       "    </tr>\n",
       "    <tr>\n",
       "      <td>2</td>\n",
       "      <td>4.166198</td>\n",
       "      <td>3.752172</td>\n",
       "      <td>0.285249</td>\n",
       "      <td>00:06</td>\n",
       "    </tr>\n",
       "    <tr>\n",
       "      <td>3</td>\n",
       "      <td>3.857800</td>\n",
       "      <td>3.703395</td>\n",
       "      <td>0.290941</td>\n",
       "      <td>00:06</td>\n",
       "    </tr>\n",
       "    <tr>\n",
       "      <td>4</td>\n",
       "      <td>3.654944</td>\n",
       "      <td>3.686342</td>\n",
       "      <td>0.292336</td>\n",
       "      <td>00:06</td>\n",
       "    </tr>\n",
       "    <tr>\n",
       "      <td>5</td>\n",
       "      <td>3.507365</td>\n",
       "      <td>3.683285</td>\n",
       "      <td>0.295889</td>\n",
       "      <td>00:06</td>\n",
       "    </tr>\n",
       "    <tr>\n",
       "      <td>6</td>\n",
       "      <td>3.392836</td>\n",
       "      <td>3.677453</td>\n",
       "      <td>0.297210</td>\n",
       "      <td>00:06</td>\n",
       "    </tr>\n",
       "    <tr>\n",
       "      <td>7</td>\n",
       "      <td>3.308200</td>\n",
       "      <td>3.674525</td>\n",
       "      <td>0.297005</td>\n",
       "      <td>00:06</td>\n",
       "    </tr>\n",
       "    <tr>\n",
       "      <td>8</td>\n",
       "      <td>3.242075</td>\n",
       "      <td>3.672908</td>\n",
       "      <td>0.297321</td>\n",
       "      <td>00:06</td>\n",
       "    </tr>\n",
       "    <tr>\n",
       "      <td>9</td>\n",
       "      <td>3.207922</td>\n",
       "      <td>3.671797</td>\n",
       "      <td>0.296968</td>\n",
       "      <td>00:06</td>\n",
       "    </tr>\n",
       "  </tbody>\n",
       "</table>"
      ],
      "text/plain": [
       "<IPython.core.display.HTML object>"
      ]
     },
     "metadata": {},
     "output_type": "display_data"
    }
   ],
   "source": [
    "learn = language_model_learner(data_lm, drop_mult=0.5,arch=AWD_LSTM) #pretrained_model=URLs.WT103,\n",
    "learn.fit_one_cycle(10, 1e-2)"
   ]
  },
  {
   "cell_type": "code",
   "execution_count": 65,
   "metadata": {},
   "outputs": [
    {
     "data": {
      "text/html": [
       "<table border=\"1\" class=\"dataframe\">\n",
       "  <thead>\n",
       "    <tr style=\"text-align: left;\">\n",
       "      <th>epoch</th>\n",
       "      <th>train_loss</th>\n",
       "      <th>valid_loss</th>\n",
       "      <th>accuracy</th>\n",
       "      <th>time</th>\n",
       "    </tr>\n",
       "  </thead>\n",
       "  <tbody>\n",
       "    <tr>\n",
       "      <td>0</td>\n",
       "      <td>3.150155</td>\n",
       "      <td>3.653840</td>\n",
       "      <td>0.300372</td>\n",
       "      <td>00:08</td>\n",
       "    </tr>\n",
       "  </tbody>\n",
       "</table>"
      ],
      "text/plain": [
       "<IPython.core.display.HTML object>"
      ]
     },
     "metadata": {},
     "output_type": "display_data"
    }
   ],
   "source": [
    "learn.unfreeze()\n",
    "learn.fit_one_cycle(1, 1e-3)"
   ]
  },
  {
   "cell_type": "code",
   "execution_count": 66,
   "metadata": {},
   "outputs": [],
   "source": [
    "wd=1e-7\n",
    "lr=1e-3\n",
    "lrs = lr"
   ]
  },
  {
   "cell_type": "code",
   "execution_count": 47,
   "metadata": {},
   "outputs": [
    {
     "data": {
      "text/html": [
       "<table border=\"1\" class=\"dataframe\">\n",
       "  <thead>\n",
       "    <tr style=\"text-align: left;\">\n",
       "      <th>epoch</th>\n",
       "      <th>train_loss</th>\n",
       "      <th>valid_loss</th>\n",
       "      <th>accuracy</th>\n",
       "      <th>time</th>\n",
       "    </tr>\n",
       "  </thead>\n",
       "  <tbody>\n",
       "    <tr>\n",
       "      <td>0</td>\n",
       "      <td>1.005131</td>\n",
       "      <td>4.926901</td>\n",
       "      <td>0.265327</td>\n",
       "      <td>00:08</td>\n",
       "    </tr>\n",
       "    <tr>\n",
       "      <td>1</td>\n",
       "      <td>0.982312</td>\n",
       "      <td>4.916312</td>\n",
       "      <td>0.263963</td>\n",
       "      <td>00:08</td>\n",
       "    </tr>\n",
       "    <tr>\n",
       "      <td>2</td>\n",
       "      <td>0.950704</td>\n",
       "      <td>4.903246</td>\n",
       "      <td>0.263170</td>\n",
       "      <td>00:08</td>\n",
       "    </tr>\n",
       "    <tr>\n",
       "      <td>3</td>\n",
       "      <td>0.929188</td>\n",
       "      <td>4.940790</td>\n",
       "      <td>0.265476</td>\n",
       "      <td>00:08</td>\n",
       "    </tr>\n",
       "    <tr>\n",
       "      <td>4</td>\n",
       "      <td>0.919336</td>\n",
       "      <td>4.948584</td>\n",
       "      <td>0.265823</td>\n",
       "      <td>00:08</td>\n",
       "    </tr>\n",
       "    <tr>\n",
       "      <td>5</td>\n",
       "      <td>0.912763</td>\n",
       "      <td>4.958337</td>\n",
       "      <td>0.265923</td>\n",
       "      <td>00:08</td>\n",
       "    </tr>\n",
       "    <tr>\n",
       "      <td>6</td>\n",
       "      <td>0.893947</td>\n",
       "      <td>4.969161</td>\n",
       "      <td>0.264013</td>\n",
       "      <td>00:08</td>\n",
       "    </tr>\n",
       "    <tr>\n",
       "      <td>7</td>\n",
       "      <td>0.870456</td>\n",
       "      <td>4.961982</td>\n",
       "      <td>0.262525</td>\n",
       "      <td>00:08</td>\n",
       "    </tr>\n",
       "    <tr>\n",
       "      <td>8</td>\n",
       "      <td>0.850763</td>\n",
       "      <td>4.959129</td>\n",
       "      <td>0.261682</td>\n",
       "      <td>00:08</td>\n",
       "    </tr>\n",
       "    <tr>\n",
       "      <td>9</td>\n",
       "      <td>0.843777</td>\n",
       "      <td>4.985524</td>\n",
       "      <td>0.264038</td>\n",
       "      <td>00:08</td>\n",
       "    </tr>\n",
       "    <tr>\n",
       "      <td>10</td>\n",
       "      <td>0.839783</td>\n",
       "      <td>4.980513</td>\n",
       "      <td>0.261855</td>\n",
       "      <td>00:08</td>\n",
       "    </tr>\n",
       "    <tr>\n",
       "      <td>11</td>\n",
       "      <td>0.828739</td>\n",
       "      <td>4.970036</td>\n",
       "      <td>0.260764</td>\n",
       "      <td>00:08</td>\n",
       "    </tr>\n",
       "    <tr>\n",
       "      <td>12</td>\n",
       "      <td>0.818784</td>\n",
       "      <td>4.991123</td>\n",
       "      <td>0.263170</td>\n",
       "      <td>00:08</td>\n",
       "    </tr>\n",
       "    <tr>\n",
       "      <td>13</td>\n",
       "      <td>0.809461</td>\n",
       "      <td>4.990578</td>\n",
       "      <td>0.263566</td>\n",
       "      <td>00:08</td>\n",
       "    </tr>\n",
       "    <tr>\n",
       "      <td>14</td>\n",
       "      <td>0.809695</td>\n",
       "      <td>4.990633</td>\n",
       "      <td>0.264683</td>\n",
       "      <td>00:08</td>\n",
       "    </tr>\n",
       "    <tr>\n",
       "      <td>15</td>\n",
       "      <td>0.798347</td>\n",
       "      <td>4.989608</td>\n",
       "      <td>0.260218</td>\n",
       "      <td>00:08</td>\n",
       "    </tr>\n",
       "    <tr>\n",
       "      <td>16</td>\n",
       "      <td>0.804258</td>\n",
       "      <td>4.960063</td>\n",
       "      <td>0.262426</td>\n",
       "      <td>00:08</td>\n",
       "    </tr>\n",
       "    <tr>\n",
       "      <td>17</td>\n",
       "      <td>0.798116</td>\n",
       "      <td>4.999723</td>\n",
       "      <td>0.263988</td>\n",
       "      <td>00:08</td>\n",
       "    </tr>\n",
       "    <tr>\n",
       "      <td>18</td>\n",
       "      <td>0.785384</td>\n",
       "      <td>4.993627</td>\n",
       "      <td>0.258656</td>\n",
       "      <td>00:08</td>\n",
       "    </tr>\n",
       "    <tr>\n",
       "      <td>19</td>\n",
       "      <td>0.771728</td>\n",
       "      <td>4.999608</td>\n",
       "      <td>0.259722</td>\n",
       "      <td>00:08</td>\n",
       "    </tr>\n",
       "    <tr>\n",
       "      <td>20</td>\n",
       "      <td>0.777124</td>\n",
       "      <td>4.996345</td>\n",
       "      <td>0.261136</td>\n",
       "      <td>00:08</td>\n",
       "    </tr>\n",
       "    <tr>\n",
       "      <td>21</td>\n",
       "      <td>0.769415</td>\n",
       "      <td>4.959963</td>\n",
       "      <td>0.262922</td>\n",
       "      <td>00:08</td>\n",
       "    </tr>\n",
       "    <tr>\n",
       "      <td>22</td>\n",
       "      <td>0.765376</td>\n",
       "      <td>4.961908</td>\n",
       "      <td>0.262525</td>\n",
       "      <td>00:08</td>\n",
       "    </tr>\n",
       "    <tr>\n",
       "      <td>23</td>\n",
       "      <td>0.762493</td>\n",
       "      <td>4.963890</td>\n",
       "      <td>0.263690</td>\n",
       "      <td>00:08</td>\n",
       "    </tr>\n",
       "    <tr>\n",
       "      <td>24</td>\n",
       "      <td>0.767931</td>\n",
       "      <td>5.048465</td>\n",
       "      <td>0.257986</td>\n",
       "      <td>00:08</td>\n",
       "    </tr>\n",
       "    <tr>\n",
       "      <td>25</td>\n",
       "      <td>0.754877</td>\n",
       "      <td>4.942721</td>\n",
       "      <td>0.261111</td>\n",
       "      <td>00:08</td>\n",
       "    </tr>\n",
       "    <tr>\n",
       "      <td>26</td>\n",
       "      <td>0.752425</td>\n",
       "      <td>4.973871</td>\n",
       "      <td>0.262723</td>\n",
       "      <td>00:08</td>\n",
       "    </tr>\n",
       "    <tr>\n",
       "      <td>27</td>\n",
       "      <td>0.743479</td>\n",
       "      <td>4.974977</td>\n",
       "      <td>0.262376</td>\n",
       "      <td>00:08</td>\n",
       "    </tr>\n",
       "    <tr>\n",
       "      <td>28</td>\n",
       "      <td>0.742677</td>\n",
       "      <td>4.991220</td>\n",
       "      <td>0.259524</td>\n",
       "      <td>00:08</td>\n",
       "    </tr>\n",
       "    <tr>\n",
       "      <td>29</td>\n",
       "      <td>0.742627</td>\n",
       "      <td>4.984958</td>\n",
       "      <td>0.260541</td>\n",
       "      <td>00:08</td>\n",
       "    </tr>\n",
       "  </tbody>\n",
       "</table>"
      ],
      "text/plain": [
       "<IPython.core.display.HTML object>"
      ]
     },
     "metadata": {},
     "output_type": "display_data"
    }
   ],
   "source": [
    "learn.fit(30,lrs, wd)"
   ]
  },
  {
   "cell_type": "code",
   "execution_count": 67,
   "metadata": {},
   "outputs": [],
   "source": [
    "dialogues = []\n",
    "\n",
    "for i in range(20):\n",
    "    dialogue = learn.predict(\"xxbos\", n_words=30, temperature=.9).replace(\"xxbos\",\"\").strip()\n",
    "    dialogues.append(dialogue)"
   ]
  },
  {
   "cell_type": "code",
   "execution_count": 68,
   "metadata": {},
   "outputs": [
    {
     "data": {
      "text/plain": [
       "[\"oh , i 'll be a good lad . who is ever what you 'm doing ?  a man you know you have .  but i 'm not\",\n",
       " \"you 're trying to understand that .  you 're not in the mood .  no .  i 'm a bastard .  you suppose this is n't\",\n",
       " \"permission will be getting the horses flying over the riverlands .  i 'm young . what will i worry about you ?  do not hate him for a\",\n",
       " \"your father did n't dignity at the small council when they saw someone know what he 's doing to his fool ?  so if i do n't take the\",\n",
       " \"a  ?  we do n't know to rule the north .  you and i made the choice .  you are lancel lannister . but i 'm\",\n",
       " \"my sweet lady , she 's not a whore .  cut her down .  together you ca n't stop them .  and i will not believe that\",\n",
       " \"my lord thought you would feed the dead .  why should you hide her ?  mine 's not your grace .  they did n't gather the remaining\",\n",
       " \"i had them cried . you really would . we were flying over the black . it was next . why could they take it ?  i 'll take\",\n",
       " \"how do you say that ?  what the king knows , he 's commanded that . go on .  his name is not a lord of braavos ,\",\n",
       " \"how is it obvious ?  no , but dorne has always taken the black .  i 'll be my own .  no , he 's beautiful .\",\n",
       " 'my mother was a scared boy . your murder .  questions ...  i am . i am the first person in westeros , and ser bronn of the',\n",
       " \"cat !  sansa stark , he 's my brother .  the euron h .  i will . i do n't know you want to . but i\",\n",
       " \"not a war .  how do you get your sword ?  your grace .  come on , riverrun !  lt was n't a boy but a\",\n",
       " \"a man who lives living and die .  we 've got a lot of money to buy . you 'll pay you .  no .  we 're\",\n",
       " \"and how did i say to me ?  i 've never asked about this .  you do .  robb .  i do n't deserve your honor\",\n",
       " \"no , are you gon na there a families ?  i 'm sorry .  well ,  fought the wildlings . i ca n't destroy them . the\",\n",
       " 'take it and execute me .  ladies ?  how will we hold this world ?  did you ever take restraint ?  the high sparrow has never',\n",
       " \"your uncle ? i 'll take him to hell with him .  my lady , she was the first of those . she was my daughter .  there\",\n",
       " 'and where will they go ?  i think the hell we need to be here is our city .  wanted them to remedy that ?  and what',\n",
       " \"you think she 's a dead man ?  tywin ... i 'd do something the wrong way , the great ruler of his land and the last king ,\"]"
      ]
     },
     "execution_count": 68,
     "metadata": {},
     "output_type": "execute_result"
    }
   ],
   "source": [
    "dialogues"
   ]
  },
  {
   "cell_type": "code",
   "execution_count": null,
   "metadata": {},
   "outputs": [],
   "source": []
  }
 ],
 "metadata": {
  "kernelspec": {
   "display_name": "Python 3",
   "language": "python",
   "name": "python3"
  },
  "language_info": {
   "codemirror_mode": {
    "name": "ipython",
    "version": 3
   },
   "file_extension": ".py",
   "mimetype": "text/x-python",
   "name": "python",
   "nbconvert_exporter": "python",
   "pygments_lexer": "ipython3",
   "version": "3.6.7"
  }
 },
 "nbformat": 4,
 "nbformat_minor": 2
}
