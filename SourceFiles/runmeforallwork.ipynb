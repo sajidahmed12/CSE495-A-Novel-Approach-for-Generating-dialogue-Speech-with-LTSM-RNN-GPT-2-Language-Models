{
  "nbformat": 4,
  "nbformat_minor": 0,
  "metadata": {
    "colab": {
      "name": "runmeforallwork.ipynb",
      "version": "0.3.2",
      "provenance": [],
      "collapsed_sections": [],
      "toc_visible": true
    },
    "kernelspec": {
      "name": "python3",
      "display_name": "Python 3"
    },
    "accelerator": "GPU"
  },
  "cells": [
    {
      "cell_type": "markdown",
      "metadata": {
        "id": "vfRovv3L3CaB",
        "colab_type": "text"
      },
      "source": [
        "# Testing Text generation with an LSTM, RNN, GPT-2 Models With Our Weights\n",
        "​\n",
        "FIRST There will be a sharing link of Google Drive \n",
        " 1. Go to The link and  To Your Google Drive \"Shared With Me Folder\" and then Check the Folder named  \"Project Final Files\" and then\n",
        " 2. Right clink on the Folder and Select \"ADD to My Drive\" \n",
        " Then Start Running the Code From this Notebook Cells as it is\n",
        " "
      ]
    },
    {
      "cell_type": "code",
      "metadata": {
        "id": "9XU5W05W1qRK",
        "colab_type": "code",
        "colab": {
          "base_uri": "https://localhost:8080/",
          "height": 127
        },
        "outputId": "3ebad6fa-c0c2-4ec4-817a-73171c7784f9"
      },
      "source": [
        "from google.colab import drive\n",
        "drive.mount('/content/drive')"
      ],
      "execution_count": 8,
      "outputs": [
        {
          "output_type": "stream",
          "text": [
            "Go to this URL in a browser: https://accounts.google.com/o/oauth2/auth?client_id=947318989803-6bn6qk8qdgf4n4g3pfee6491hc0brc4i.apps.googleusercontent.com&redirect_uri=urn%3Aietf%3Awg%3Aoauth%3A2.0%3Aoob&scope=email%20https%3A%2F%2Fwww.googleapis.com%2Fauth%2Fdocs.test%20https%3A%2F%2Fwww.googleapis.com%2Fauth%2Fdrive%20https%3A%2F%2Fwww.googleapis.com%2Fauth%2Fdrive.photos.readonly%20https%3A%2F%2Fwww.googleapis.com%2Fauth%2Fpeopleapi.readonly&response_type=code\n",
            "\n",
            "Enter your authorization code:\n",
            "··········\n",
            "Mounted at /content/drive\n"
          ],
          "name": "stdout"
        }
      ]
    },
    {
      "cell_type": "code",
      "metadata": {
        "id": "7Xyvtgue3Fqm",
        "colab_type": "code",
        "colab": {
          "base_uri": "https://localhost:8080/",
          "height": 35
        },
        "outputId": "db6b93ab-2889-43e1-b19e-214cec14e2db"
      },
      "source": [
        "%cd '/content/drive/My Drive/Project Main Files/LSTM/'"
      ],
      "execution_count": 9,
      "outputs": [
        {
          "output_type": "stream",
          "text": [
            "/content/drive/My Drive/Project Main Files/LSTM\n"
          ],
          "name": "stdout"
        }
      ]
    },
    {
      "cell_type": "markdown",
      "metadata": {
        "id": "CVBLhrqs3NHf",
        "colab_type": "text"
      },
      "source": [
        "# LSTM Model Testing outputs With our Trained Weights"
      ]
    },
    {
      "cell_type": "code",
      "metadata": {
        "id": "KuaD19f73L94",
        "colab_type": "code",
        "colab": {
          "base_uri": "https://localhost:8080/",
          "height": 35
        },
        "outputId": "8bd84801-a23a-4996-f42e-aa11a41a4b18"
      },
      "source": [
        "from __future__ import absolute_import, division, print_function, unicode_literals\n",
        "\n",
        "try:\n",
        "  # %tensorflow_version only exists in Colab.\n",
        "  %tensorflow_version 2.x\n",
        "except Exception:\n",
        "  pass\n",
        "import tensorflow as tf\n",
        "import numpy as np\n",
        "import os\n",
        "import time"
      ],
      "execution_count": 9,
      "outputs": [
        {
          "output_type": "stream",
          "text": [
            "TensorFlow 2.x selected.\n"
          ],
          "name": "stdout"
        }
      ]
    },
    {
      "cell_type": "code",
      "metadata": {
        "id": "uakid3vW3L7e",
        "colab_type": "code",
        "colab": {
          "base_uri": "https://localhost:8080/",
          "height": 1000
        },
        "outputId": "ba507bdc-cff9-4f82-d042-82046062347d"
      },
      "source": [
        "!python3 test_lstm_py.py  "
      ],
      "execution_count": 11,
      "outputs": [
        {
          "output_type": "stream",
          "text": [
            "Length of text: 1639135 characters\n",
            "91 unique characters\n",
            "2019-09-07 18:37:30.322829: I tensorflow/stream_executor/platform/default/dso_loader.cc:44] Successfully opened dynamic library libcuda.so.1\n",
            "2019-09-07 18:37:30.372765: I tensorflow/stream_executor/cuda/cuda_gpu_executor.cc:1006] successful NUMA node read from SysFS had negative value (-1), but there must be at least one NUMA node, so returning NUMA node zero\n",
            "2019-09-07 18:37:30.373557: I tensorflow/core/common_runtime/gpu/gpu_device.cc:1618] Found device 0 with properties: \n",
            "name: Tesla K80 major: 3 minor: 7 memoryClockRate(GHz): 0.8235\n",
            "pciBusID: 0000:00:04.0\n",
            "2019-09-07 18:37:30.386863: I tensorflow/stream_executor/platform/default/dso_loader.cc:44] Successfully opened dynamic library libcudart.so.10.0\n",
            "2019-09-07 18:37:30.556344: I tensorflow/stream_executor/platform/default/dso_loader.cc:44] Successfully opened dynamic library libcublas.so.10.0\n",
            "2019-09-07 18:37:30.636983: I tensorflow/stream_executor/platform/default/dso_loader.cc:44] Successfully opened dynamic library libcufft.so.10.0\n",
            "2019-09-07 18:37:30.661291: I tensorflow/stream_executor/platform/default/dso_loader.cc:44] Successfully opened dynamic library libcurand.so.10.0\n",
            "2019-09-07 18:37:30.845981: I tensorflow/stream_executor/platform/default/dso_loader.cc:44] Successfully opened dynamic library libcusolver.so.10.0\n",
            "2019-09-07 18:37:30.955133: I tensorflow/stream_executor/platform/default/dso_loader.cc:44] Successfully opened dynamic library libcusparse.so.10.0\n",
            "2019-09-07 18:37:31.302909: I tensorflow/stream_executor/platform/default/dso_loader.cc:44] Successfully opened dynamic library libcudnn.so.7\n",
            "2019-09-07 18:37:31.303165: I tensorflow/stream_executor/cuda/cuda_gpu_executor.cc:1006] successful NUMA node read from SysFS had negative value (-1), but there must be at least one NUMA node, so returning NUMA node zero\n",
            "2019-09-07 18:37:31.303986: I tensorflow/stream_executor/cuda/cuda_gpu_executor.cc:1006] successful NUMA node read from SysFS had negative value (-1), but there must be at least one NUMA node, so returning NUMA node zero\n",
            "2019-09-07 18:37:31.304780: I tensorflow/core/common_runtime/gpu/gpu_device.cc:1746] Adding visible gpu devices: 0\n",
            "2019-09-07 18:37:31.305352: I tensorflow/core/platform/cpu_feature_guard.cc:142] Your CPU supports instructions that this TensorFlow binary was not compiled to use: AVX2 FMA\n",
            "2019-09-07 18:37:31.327353: I tensorflow/core/platform/profile_utils/cpu_utils.cc:94] CPU Frequency: 2199995000 Hz\n",
            "2019-09-07 18:37:31.329460: I tensorflow/compiler/xla/service/service.cc:168] XLA service 0x20c1480 executing computations on platform Host. Devices:\n",
            "2019-09-07 18:37:31.329493: I tensorflow/compiler/xla/service/service.cc:175]   StreamExecutor device (0): Host, Default Version\n",
            "2019-09-07 18:37:31.430934: I tensorflow/stream_executor/cuda/cuda_gpu_executor.cc:1006] successful NUMA node read from SysFS had negative value (-1), but there must be at least one NUMA node, so returning NUMA node zero\n",
            "2019-09-07 18:37:31.431841: I tensorflow/compiler/xla/service/service.cc:168] XLA service 0x20c1d40 executing computations on platform CUDA. Devices:\n",
            "2019-09-07 18:37:31.431874: I tensorflow/compiler/xla/service/service.cc:175]   StreamExecutor device (0): Tesla K80, Compute Capability 3.7\n",
            "2019-09-07 18:37:31.433219: I tensorflow/stream_executor/cuda/cuda_gpu_executor.cc:1006] successful NUMA node read from SysFS had negative value (-1), but there must be at least one NUMA node, so returning NUMA node zero\n",
            "2019-09-07 18:37:31.433952: I tensorflow/core/common_runtime/gpu/gpu_device.cc:1618] Found device 0 with properties: \n",
            "name: Tesla K80 major: 3 minor: 7 memoryClockRate(GHz): 0.8235\n",
            "pciBusID: 0000:00:04.0\n",
            "2019-09-07 18:37:31.434062: I tensorflow/stream_executor/platform/default/dso_loader.cc:44] Successfully opened dynamic library libcudart.so.10.0\n",
            "2019-09-07 18:37:31.434129: I tensorflow/stream_executor/platform/default/dso_loader.cc:44] Successfully opened dynamic library libcublas.so.10.0\n",
            "2019-09-07 18:37:31.434150: I tensorflow/stream_executor/platform/default/dso_loader.cc:44] Successfully opened dynamic library libcufft.so.10.0\n",
            "2019-09-07 18:37:31.434169: I tensorflow/stream_executor/platform/default/dso_loader.cc:44] Successfully opened dynamic library libcurand.so.10.0\n",
            "2019-09-07 18:37:31.434198: I tensorflow/stream_executor/platform/default/dso_loader.cc:44] Successfully opened dynamic library libcusolver.so.10.0\n",
            "2019-09-07 18:37:31.434216: I tensorflow/stream_executor/platform/default/dso_loader.cc:44] Successfully opened dynamic library libcusparse.so.10.0\n",
            "2019-09-07 18:37:31.434235: I tensorflow/stream_executor/platform/default/dso_loader.cc:44] Successfully opened dynamic library libcudnn.so.7\n",
            "2019-09-07 18:37:31.434289: I tensorflow/stream_executor/cuda/cuda_gpu_executor.cc:1006] successful NUMA node read from SysFS had negative value (-1), but there must be at least one NUMA node, so returning NUMA node zero\n",
            "2019-09-07 18:37:31.434997: I tensorflow/stream_executor/cuda/cuda_gpu_executor.cc:1006] successful NUMA node read from SysFS had negative value (-1), but there must be at least one NUMA node, so returning NUMA node zero\n",
            "2019-09-07 18:37:31.435682: I tensorflow/core/common_runtime/gpu/gpu_device.cc:1746] Adding visible gpu devices: 0\n",
            "2019-09-07 18:37:31.439309: I tensorflow/stream_executor/platform/default/dso_loader.cc:44] Successfully opened dynamic library libcudart.so.10.0\n",
            "2019-09-07 18:37:31.440777: I tensorflow/core/common_runtime/gpu/gpu_device.cc:1159] Device interconnect StreamExecutor with strength 1 edge matrix:\n",
            "2019-09-07 18:37:31.440811: I tensorflow/core/common_runtime/gpu/gpu_device.cc:1165]      0 \n",
            "2019-09-07 18:37:31.440824: I tensorflow/core/common_runtime/gpu/gpu_device.cc:1178] 0:   N \n",
            "2019-09-07 18:37:31.441990: I tensorflow/stream_executor/cuda/cuda_gpu_executor.cc:1006] successful NUMA node read from SysFS had negative value (-1), but there must be at least one NUMA node, so returning NUMA node zero\n",
            "2019-09-07 18:37:31.442745: I tensorflow/stream_executor/cuda/cuda_gpu_executor.cc:1006] successful NUMA node read from SysFS had negative value (-1), but there must be at least one NUMA node, so returning NUMA node zero\n",
            "2019-09-07 18:37:31.443429: W tensorflow/core/common_runtime/gpu/gpu_bfc_allocator.cc:39] Overriding allow_growth setting because the TF_FORCE_GPU_ALLOW_GROWTH environment variable is set. Original config value was 0.\n",
            "2019-09-07 18:37:31.443485: I tensorflow/core/common_runtime/gpu/gpu_device.cc:1304] Created TensorFlow device (/job:localhost/replica:0/task:0/device:GPU:0 with 10805 MB memory) -> physical GPU (device: 0, name: Tesla K80, pci bus id: 0000:00:04.0, compute capability: 3.7)\n",
            "Model: \"sequential_1\"\n",
            "_________________________________________________________________\n",
            "Layer (type)                 Output Shape              Param #   \n",
            "=================================================================\n",
            "embedding_1 (Embedding)      (1, None, 256)            23296     \n",
            "_________________________________________________________________\n",
            "lstm_1 (LSTM)                (1, None, 1024)           5246976   \n",
            "_________________________________________________________________\n",
            "dense_1 (Dense)              (1, None, 91)             93275     \n",
            "=================================================================\n",
            "Total params: 5,363,547\n",
            "Trainable params: 5,363,547\n",
            "Non-trainable params: 0\n",
            "_________________________________________________________________\n",
            "2019-09-07 18:37:39.684739: I tensorflow/stream_executor/platform/default/dso_loader.cc:44] Successfully opened dynamic library libcudnn.so.7\n",
            "2019-09-07 18:37:41.684673: I tensorflow/stream_executor/platform/default/dso_loader.cc:44] Successfully opened dynamic library libcublas.so.10.0\n",
            "Tyrion lannister: Good.\n",
            "Greatjon Umber: Not your uncle Tyrion, sons of people he could also the decent prayer thought I’d be.\n",
            "Tyrion Lannister: Well fought. We're familiar with the Brotherhood?\n",
            "Jon Snow: No one's evide of the poolet. He swares at Tyrion’s room.\n",
            "\n",
            "Eddard Stark: I will not be staying as he lies.\n",
            "SANSA: They came before you suck feed friends liet corn off dression, but Jorah says it's a trick, all the stories they do. You got men lord, he want to keep one of your already on the thit.\n",
            "\n",
            "BRIENNE: Then why are they?\n",
            "\n",
            "BRIENNE: Not, you're just a soldier.\n",
            "\n",
            "SANDOR: Come on!\n",
            "\n",
            "SANSA: I'm not telling me to keep that. Give time a lot shooting arrived and slaughter themselves it to the other guards. He and CAMSEI: I heard what I have won. But I have to go home both being born.\n",
            "\n",
            "RAMSAY his eyes and opens the door. As they stop fol of Riverrun, the sunlegging two mongrts than daughter. She slits down a hall opening the chamber. Daenerys is sitting down.\n",
            "\n",
            "Ed they teached the Red Wedding.\n"
          ],
          "name": "stdout"
        }
      ]
    },
    {
      "cell_type": "markdown",
      "metadata": {
        "id": "Aea3gyz27xWk",
        "colab_type": "text"
      },
      "source": [
        "# RNN model Testing outputs With our Trained Weights"
      ]
    },
    {
      "cell_type": "code",
      "metadata": {
        "id": "0_cGBZeM3MBi",
        "colab_type": "code",
        "colab": {
          "base_uri": "https://localhost:8080/",
          "height": 35
        },
        "outputId": "ebb8ca86-3efd-45d0-c8dc-765d79374993"
      },
      "source": [
        "%cd '/content/drive/My Drive/Project Main Files/RNN/'"
      ],
      "execution_count": 49,
      "outputs": [
        {
          "output_type": "stream",
          "text": [
            "/content/drive/My Drive/Project Main Files/RNN\n"
          ],
          "name": "stdout"
        }
      ]
    },
    {
      "cell_type": "code",
      "metadata": {
        "id": "1To2r7Uv8zvb",
        "colab_type": "code",
        "colab": {
          "base_uri": "https://localhost:8080/",
          "height": 917
        },
        "outputId": "5fa4e2c3-42fe-4878-8ceb-a997274dfbea"
      },
      "source": [
        "!python3 test_rnn.py  "
      ],
      "execution_count": 51,
      "outputs": [
        {
          "output_type": "stream",
          "text": [
            "2019-09-07 18:19:32.037276: I tensorflow/core/platform/cpu_feature_guard.cc:142] Your CPU supports instructions that this TensorFlow binary was not compiled to use: AVX2 FMA\n",
            "2019-09-07 18:19:32.042996: I tensorflow/core/platform/profile_utils/cpu_utils.cc:94] CPU Frequency: 2300000000 Hz\n",
            "2019-09-07 18:19:32.043313: I tensorflow/compiler/xla/service/service.cc:168] XLA service 0x2de72c0 executing computations on platform Host. Devices:\n",
            "2019-09-07 18:19:32.043353: I tensorflow/compiler/xla/service/service.cc:175]   StreamExecutor device (0): Host, Default Version\n",
            "Model: \"sequential_1\"\n",
            "_________________________________________________________________\n",
            "Layer (type)                 Output Shape              Param #   \n",
            "=================================================================\n",
            "embedding_1 (Embedding)      (1, None, 256)            23296     \n",
            "_________________________________________________________________\n",
            "simple_rnn_1 (SimpleRNN)     (1, None, 1024)           1311744   \n",
            "_________________________________________________________________\n",
            "dense_1 (Dense)              (1, None, 91)             93275     \n",
            "=================================================================\n",
            "Total params: 1,428,315\n",
            "Trainable params: 1,428,315\n",
            "Non-trainable params: 0\n",
            "_________________________________________________________________\n",
            "Jon Snow: [scoff.\n",
            "\n",
            "TYRION: I was wating his chest.\n",
            "\n",
            "JON SNOW sits again. BRAN finished and he's Lungried orderly quicks threats. Tyrion looks at SANSA and commands and Putal holds outside. DORAH looks at the top of the battlefies.\n",
            "\n",
            "JAQEN: She was a compant.\n",
            "\n",
            "Slmen of the North: Thira queen of your father.\n",
            "Lysa Arryn: He's very muscumi-\n",
            "Myscell appreation. It’s the North. 400 men shouldded you.\n",
            "\n",
            "SANDOR: You’ve fought beside the castle.\n",
            "\n",
            "INT. KING’S LANDING\n",
            "\n",
            "DAENERYS: (gaving difficult decidencom.\n",
            "Barristan Selly: Like the lion passed.\n",
            "\n",
            "SANSA: We don't have the contention.\n",
            "\n",
            "MAN: We were.\n",
            "\n",
            "The High Septon of the Harpy is business it. How do you know where is otherhis room..\n",
            "\n",
            "JAIME: Your Grace,’s wasn’t it, if e go ashos.\n",
            "\n",
            "DAVOS: Don't think you think I can't be with a stick, LEMBARA GREY WORM are being woman]\n",
            "\n",
            "All the breaks before streeting in the world than anything.\n",
            "Petyr Baelish: Alrallynd treat the final dine joke.\n",
            "Daenerys Targaryen: (in Dothraki) This is oursel\n"
          ],
          "name": "stdout"
        }
      ]
    },
    {
      "cell_type": "markdown",
      "metadata": {
        "id": "1E7saxtH9hyE",
        "colab_type": "text"
      },
      "source": [
        "# Testing The GPT-2 Language Model With Our trained Model Weights"
      ]
    },
    {
      "cell_type": "code",
      "metadata": {
        "id": "Qua9Gb9K9qcL",
        "colab_type": "code",
        "colab": {
          "base_uri": "https://localhost:8080/",
          "height": 35
        },
        "outputId": "0a69bbb7-2a58-4278-c380-5369ad491ec8"
      },
      "source": [
        "%cd '/content/drive/My Drive/Project Main Files/GPT-2/gpt-2'"
      ],
      "execution_count": 1,
      "outputs": [
        {
          "output_type": "stream",
          "text": [
            "/content/drive/My Drive/Project Main Files/GPT-2/gpt-2\n"
          ],
          "name": "stdout"
        }
      ]
    },
    {
      "cell_type": "code",
      "metadata": {
        "id": "49FCaI4d91LA",
        "colab_type": "code",
        "colab": {
          "base_uri": "https://localhost:8080/",
          "height": 215
        },
        "outputId": "8d36fa9b-3465-43cb-ae8f-61c49efaff70"
      },
      "source": [
        "!pip3 install -r requirements.txt\n",
        "!export PYTHONIOENCODING=UTF-8"
      ],
      "execution_count": 2,
      "outputs": [
        {
          "output_type": "stream",
          "text": [
            "Requirement already satisfied: fire>=0.1.3 in /usr/local/lib/python3.6/dist-packages (from -r requirements.txt (line 1)) (0.2.1)\n",
            "Requirement already satisfied: regex==2017.4.5 in /usr/local/lib/python3.6/dist-packages (from -r requirements.txt (line 2)) (2017.4.5)\n",
            "Requirement already satisfied: requests==2.21.0 in /usr/local/lib/python3.6/dist-packages (from -r requirements.txt (line 3)) (2.21.0)\n",
            "Requirement already satisfied: tqdm==4.31.1 in /usr/local/lib/python3.6/dist-packages (from -r requirements.txt (line 4)) (4.31.1)\n",
            "Requirement already satisfied: toposort==1.5 in /usr/local/lib/python3.6/dist-packages (from -r requirements.txt (line 5)) (1.5)\n",
            "Requirement already satisfied: termcolor in /usr/local/lib/python3.6/dist-packages (from fire>=0.1.3->-r requirements.txt (line 1)) (1.1.0)\n",
            "Requirement already satisfied: six in /usr/local/lib/python3.6/dist-packages (from fire>=0.1.3->-r requirements.txt (line 1)) (1.12.0)\n",
            "Requirement already satisfied: urllib3<1.25,>=1.21.1 in /usr/local/lib/python3.6/dist-packages (from requests==2.21.0->-r requirements.txt (line 3)) (1.24.3)\n",
            "Requirement already satisfied: idna<2.9,>=2.5 in /usr/local/lib/python3.6/dist-packages (from requests==2.21.0->-r requirements.txt (line 3)) (2.8)\n",
            "Requirement already satisfied: chardet<3.1.0,>=3.0.2 in /usr/local/lib/python3.6/dist-packages (from requests==2.21.0->-r requirements.txt (line 3)) (3.0.4)\n",
            "Requirement already satisfied: certifi>=2017.4.17 in /usr/local/lib/python3.6/dist-packages (from requests==2.21.0->-r requirements.txt (line 3)) (2019.6.16)\n"
          ],
          "name": "stdout"
        }
      ]
    },
    {
      "cell_type": "code",
      "metadata": {
        "id": "zn_sP-jG98FH",
        "colab_type": "code",
        "colab": {}
      },
      "source": [
        "!PYTHONPATH=src "
      ],
      "execution_count": 0,
      "outputs": []
    },
    {
      "cell_type": "markdown",
      "metadata": {
        "id": "szJhl5zZ-sRF",
        "colab_type": "text"
      },
      "source": [
        "# Here after Running the #Test Gpt-2 Cell Model will Start testing from the test set and will ask for an input in \n",
        "# ** \"Model prompt \"** \n",
        "\n",
        "\n",
        "\n",
        "> Here Insert any main Characters name for Example: \"Jon Snow\" ,\"Tyrion lannister\", \"Daenerys Targaryen\" and  press Enter , Then it will Show the generated Text Script for ultimate Prediction in Season 8 of Game of thrones . \n",
        "\n",
        "\n",
        "\n"
      ]
    },
    {
      "cell_type": "code",
      "metadata": {
        "id": "GpG6vrKH84KV",
        "colab_type": "code",
        "colab": {
          "base_uri": "https://localhost:8080/",
          "height": 1000
        },
        "outputId": "286578aa-0378-487c-8fcf-681f15d85cdc"
      },
      "source": [
        "#Test Gpt-2 Cell\n",
        "!python3 src/interactive_conditional_samples.py --top_k 40 --model_name \"345M\""
      ],
      "execution_count": 6,
      "outputs": [
        {
          "output_type": "stream",
          "text": [
            "WARNING:tensorflow:From /content/drive/My Drive/Project Main Files/GPT-2/gpt-2/src/model.py:147: The name tf.AUTO_REUSE is deprecated. Please use tf.compat.v1.AUTO_REUSE instead.\n",
            "\n",
            "WARNING:tensorflow:From src/interactive_conditional_samples.py:55: The name tf.Session is deprecated. Please use tf.compat.v1.Session instead.\n",
            "\n",
            "2019-09-07 18:57:14.164700: I tensorflow/stream_executor/platform/default/dso_loader.cc:42] Successfully opened dynamic library libcuda.so.1\n",
            "2019-09-07 18:57:14.184686: I tensorflow/stream_executor/cuda/cuda_gpu_executor.cc:1005] successful NUMA node read from SysFS had negative value (-1), but there must be at least one NUMA node, so returning NUMA node zero\n",
            "2019-09-07 18:57:14.185473: I tensorflow/core/common_runtime/gpu/gpu_device.cc:1640] Found device 0 with properties: \n",
            "name: Tesla K80 major: 3 minor: 7 memoryClockRate(GHz): 0.8235\n",
            "pciBusID: 0000:00:04.0\n",
            "2019-09-07 18:57:14.185788: I tensorflow/stream_executor/platform/default/dso_loader.cc:42] Successfully opened dynamic library libcudart.so.10.0\n",
            "2019-09-07 18:57:14.187334: I tensorflow/stream_executor/platform/default/dso_loader.cc:42] Successfully opened dynamic library libcublas.so.10.0\n",
            "2019-09-07 18:57:14.188672: I tensorflow/stream_executor/platform/default/dso_loader.cc:42] Successfully opened dynamic library libcufft.so.10.0\n",
            "2019-09-07 18:57:14.189025: I tensorflow/stream_executor/platform/default/dso_loader.cc:42] Successfully opened dynamic library libcurand.so.10.0\n",
            "2019-09-07 18:57:14.190839: I tensorflow/stream_executor/platform/default/dso_loader.cc:42] Successfully opened dynamic library libcusolver.so.10.0\n",
            "2019-09-07 18:57:14.192128: I tensorflow/stream_executor/platform/default/dso_loader.cc:42] Successfully opened dynamic library libcusparse.so.10.0\n",
            "2019-09-07 18:57:14.195848: I tensorflow/stream_executor/platform/default/dso_loader.cc:42] Successfully opened dynamic library libcudnn.so.7\n",
            "2019-09-07 18:57:14.195974: I tensorflow/stream_executor/cuda/cuda_gpu_executor.cc:1005] successful NUMA node read from SysFS had negative value (-1), but there must be at least one NUMA node, so returning NUMA node zero\n",
            "2019-09-07 18:57:14.196832: I tensorflow/stream_executor/cuda/cuda_gpu_executor.cc:1005] successful NUMA node read from SysFS had negative value (-1), but there must be at least one NUMA node, so returning NUMA node zero\n",
            "2019-09-07 18:57:14.197510: I tensorflow/core/common_runtime/gpu/gpu_device.cc:1763] Adding visible gpu devices: 0\n",
            "2019-09-07 18:57:14.203374: I tensorflow/core/platform/profile_utils/cpu_utils.cc:94] CPU Frequency: 2199995000 Hz\n",
            "2019-09-07 18:57:14.203669: I tensorflow/compiler/xla/service/service.cc:168] XLA service 0x15fd2c0 executing computations on platform Host. Devices:\n",
            "2019-09-07 18:57:14.203704: I tensorflow/compiler/xla/service/service.cc:175]   StreamExecutor device (0): <undefined>, <undefined>\n",
            "2019-09-07 18:57:14.264788: I tensorflow/stream_executor/cuda/cuda_gpu_executor.cc:1005] successful NUMA node read from SysFS had negative value (-1), but there must be at least one NUMA node, so returning NUMA node zero\n",
            "2019-09-07 18:57:14.265687: I tensorflow/compiler/xla/service/service.cc:168] XLA service 0x15fd480 executing computations on platform CUDA. Devices:\n",
            "2019-09-07 18:57:14.265718: I tensorflow/compiler/xla/service/service.cc:175]   StreamExecutor device (0): Tesla K80, Compute Capability 3.7\n",
            "2019-09-07 18:57:14.265871: I tensorflow/stream_executor/cuda/cuda_gpu_executor.cc:1005] successful NUMA node read from SysFS had negative value (-1), but there must be at least one NUMA node, so returning NUMA node zero\n",
            "2019-09-07 18:57:14.266552: I tensorflow/core/common_runtime/gpu/gpu_device.cc:1640] Found device 0 with properties: \n",
            "name: Tesla K80 major: 3 minor: 7 memoryClockRate(GHz): 0.8235\n",
            "pciBusID: 0000:00:04.0\n",
            "2019-09-07 18:57:14.266632: I tensorflow/stream_executor/platform/default/dso_loader.cc:42] Successfully opened dynamic library libcudart.so.10.0\n",
            "2019-09-07 18:57:14.266658: I tensorflow/stream_executor/platform/default/dso_loader.cc:42] Successfully opened dynamic library libcublas.so.10.0\n",
            "2019-09-07 18:57:14.266680: I tensorflow/stream_executor/platform/default/dso_loader.cc:42] Successfully opened dynamic library libcufft.so.10.0\n",
            "2019-09-07 18:57:14.266702: I tensorflow/stream_executor/platform/default/dso_loader.cc:42] Successfully opened dynamic library libcurand.so.10.0\n",
            "2019-09-07 18:57:14.266724: I tensorflow/stream_executor/platform/default/dso_loader.cc:42] Successfully opened dynamic library libcusolver.so.10.0\n",
            "2019-09-07 18:57:14.266745: I tensorflow/stream_executor/platform/default/dso_loader.cc:42] Successfully opened dynamic library libcusparse.so.10.0\n",
            "2019-09-07 18:57:14.266768: I tensorflow/stream_executor/platform/default/dso_loader.cc:42] Successfully opened dynamic library libcudnn.so.7\n",
            "2019-09-07 18:57:14.266825: I tensorflow/stream_executor/cuda/cuda_gpu_executor.cc:1005] successful NUMA node read from SysFS had negative value (-1), but there must be at least one NUMA node, so returning NUMA node zero\n",
            "2019-09-07 18:57:14.267523: I tensorflow/stream_executor/cuda/cuda_gpu_executor.cc:1005] successful NUMA node read from SysFS had negative value (-1), but there must be at least one NUMA node, so returning NUMA node zero\n",
            "2019-09-07 18:57:14.268194: I tensorflow/core/common_runtime/gpu/gpu_device.cc:1763] Adding visible gpu devices: 0\n",
            "2019-09-07 18:57:14.268258: I tensorflow/stream_executor/platform/default/dso_loader.cc:42] Successfully opened dynamic library libcudart.so.10.0\n",
            "2019-09-07 18:57:14.269837: I tensorflow/core/common_runtime/gpu/gpu_device.cc:1181] Device interconnect StreamExecutor with strength 1 edge matrix:\n",
            "2019-09-07 18:57:14.269866: I tensorflow/core/common_runtime/gpu/gpu_device.cc:1187]      0 \n",
            "2019-09-07 18:57:14.269878: I tensorflow/core/common_runtime/gpu/gpu_device.cc:1200] 0:   N \n",
            "2019-09-07 18:57:14.269988: I tensorflow/stream_executor/cuda/cuda_gpu_executor.cc:1005] successful NUMA node read from SysFS had negative value (-1), but there must be at least one NUMA node, so returning NUMA node zero\n",
            "2019-09-07 18:57:14.270845: I tensorflow/stream_executor/cuda/cuda_gpu_executor.cc:1005] successful NUMA node read from SysFS had negative value (-1), but there must be at least one NUMA node, so returning NUMA node zero\n",
            "2019-09-07 18:57:14.271620: W tensorflow/core/common_runtime/gpu/gpu_bfc_allocator.cc:40] Overriding allow_growth setting because the TF_FORCE_GPU_ALLOW_GROWTH environment variable is set. Original config value was 0.\n",
            "2019-09-07 18:57:14.271683: I tensorflow/core/common_runtime/gpu/gpu_device.cc:1326] Created TensorFlow device (/job:localhost/replica:0/task:0/device:GPU:0 with 10805 MB memory) -> physical GPU (device: 0, name: Tesla K80, pci bus id: 0000:00:04.0, compute capability: 3.7)\n",
            "WARNING:tensorflow:From src/interactive_conditional_samples.py:56: The name tf.placeholder is deprecated. Please use tf.compat.v1.placeholder instead.\n",
            "\n",
            "WARNING:tensorflow:From src/interactive_conditional_samples.py:58: The name tf.set_random_seed is deprecated. Please use tf.compat.v1.set_random_seed instead.\n",
            "\n",
            "WARNING:tensorflow:From /content/drive/My Drive/Project Main Files/GPT-2/gpt-2/src/model.py:148: The name tf.variable_scope is deprecated. Please use tf.compat.v1.variable_scope instead.\n",
            "\n",
            "WARNING:tensorflow:From /content/drive/My Drive/Project Main Files/GPT-2/gpt-2/src/sample.py:65: to_float (from tensorflow.python.ops.math_ops) is deprecated and will be removed in a future version.\n",
            "Instructions for updating:\n",
            "Use `tf.cast` instead.\n",
            "WARNING:tensorflow:From /content/drive/My Drive/Project Main Files/GPT-2/gpt-2/src/sample.py:16: add_dispatch_support.<locals>.wrapper (from tensorflow.python.ops.array_ops) is deprecated and will be removed in a future version.\n",
            "Instructions for updating:\n",
            "Use tf.where in 2.0, which has the same broadcast rule as np.where\n",
            "WARNING:tensorflow:From /content/drive/My Drive/Project Main Files/GPT-2/gpt-2/src/sample.py:70: multinomial (from tensorflow.python.ops.random_ops) is deprecated and will be removed in a future version.\n",
            "Instructions for updating:\n",
            "Use `tf.random.categorical` instead.\n",
            "WARNING:tensorflow:From src/interactive_conditional_samples.py:66: The name tf.train.Saver is deprecated. Please use tf.compat.v1.train.Saver instead.\n",
            "\n",
            "WARNING:tensorflow:From /usr/local/lib/python3.6/dist-packages/tensorflow/python/training/saver.py:1276: checkpoint_exists (from tensorflow.python.training.checkpoint_management) is deprecated and will be removed in a future version.\n",
            "Instructions for updating:\n",
            "Use standard file APIs to check for files with this prefix.\n",
            "Model prompt >>> Jon Snow\n",
            "2019-09-07 18:57:36.180409: I tensorflow/stream_executor/platform/default/dso_loader.cc:42] Successfully opened dynamic library libcublas.so.10.0\n",
            "======================================== SAMPLE 1 ========================================\n",
            " and the Red Woman of Hizdahr Zayn Abdelkader\n",
            "\n",
            "The two-part arc began in the season seven premiere of Game of Thrones, and has taken place in eight episodes. So far three of these three chapters took place around Winterfell: the final chapter of Theon and the battle between Dany's armies at the Wall while the characters on foot guard the castle. The first chapter, \"House of the Undying,\" sees the arrival of the new Lord Commander of the Night's Watch, Catelyn. This chapter also marks the episode's official beginning. Though no-one at the time of the reveal knows the answer, the show already has revealed that the season eight finale will also address the subject when it debuts in the next few weeks.\n",
            "\n",
            "Catelyn is still alive after her escape from Winterfell and thus is presumably alive. According to one fan, \"she's going to make an interesting return in a few weeks.\"\n",
            "\n",
            "There are also two potential appearances in the premiere of the season, the first taking place after Brienne's speech with Varys the night she left with Tyrion, the second taking place after the events at the Wall where the two armies fight after the death of Tyrion. A full list could be found here.\n",
            "\n",
            "Jon Snow, Arya Stark, Rickon Stark, Sansa Stark, and Sansa's direwolf Sansa, in Game of Thrones\n",
            "\n",
            "At least one of these three possible appearances will not be in Winterfell.\n",
            "\n",
            "The new season will premiere in the UK on April 2nd to fill the two-week summer break following the episode \"Blood of My Blood: The Red Woman.\" The second episode, which is expected to air on May 7th, will also mark the last episode of the 2017-18 season. This will presumably mark the beginning of the final few days of post-Dawn filming until filming for season eight starts for other major action scenes.\n",
            "\n",
            "So if there's anything this show will do that's not Game of Thrones, the first season will probably end before the second season does. We'll have to wait and see what happens.\n",
            "\n",
            "So there you go. Hopefully you enjoyed our picks for the premiere of Game of Thrones, we've picked what we think is the most exciting moments for 2017-18 already. There's more coming with all of this, especially this time around, so be sure to keep an eye out to find out how the show's going as we close\n",
            "================================================================================\n",
            "Model prompt >>> Traceback (most recent call last):\n",
            "  File \"/usr/lib/python3.6/contextlib.py\", line 99, in __exit__\n",
            "    self.gen.throw(type, value, traceback)\n",
            "  File \"/usr/local/lib/python3.6/dist-packages/tensorflow/python/framework/ops.py\", line 5652, in get_controller\n",
            "    yield g\n",
            "  File \"src/interactive_conditional_samples.py\", line 71, in interact_model\n",
            "    raw_text = input(\"Model prompt >>> \")\n",
            "KeyboardInterrupt\n",
            "\n",
            "During handling of the above exception, another exception occurred:\n",
            "\n",
            "Traceback (most recent call last):\n",
            "  File \"src/interactive_conditional_samples.py\", line 89, in <module>\n",
            "    fire.Fire(interact_model)\n",
            "  File \"/usr/local/lib/python3.6/dist-packages/fire/core.py\", line 138, in Fire\n",
            "    component_trace = _Fire(component, args, parsed_flag_args, context, name)\n",
            "  File \"/usr/local/lib/python3.6/dist-packages/fire/core.py\", line 471, in _Fire\n",
            "    target=component.__name__)\n",
            "  File \"/usr/local/lib/python3.6/dist-packages/fire/core.py\", line 675, in _CallAndUpdateTrace\n",
            "    component = fn(*varargs, **kwargs)\n",
            "  File \"src/interactive_conditional_samples.py\", line 86, in interact_model\n",
            "    print(\"=\" * 80)\n",
            "  File \"/usr/local/lib/python3.6/dist-packages/tensorflow/python/client/session.py\", line 1618, in __exit__\n",
            "    close_thread.start()\n",
            "  File \"/usr/lib/python3.6/threading.py\", line 851, in start\n",
            "    self._started.wait()\n",
            "  File \"/usr/lib/python3.6/threading.py\", line 551, in wait\n",
            "    signaled = self._cond.wait(timeout)\n",
            "  File \"/usr/lib/python3.6/threading.py\", line 295, in wait\n",
            "    waiter.acquire()\n",
            "KeyboardInterrupt\n"
          ],
          "name": "stdout"
        }
      ]
    },
    {
      "cell_type": "markdown",
      "metadata": {
        "id": "3nSttRPwAdct",
        "colab_type": "text"
      },
      "source": [
        "# Training LSTM Model \n",
        "\n",
        "Run From below Cells"
      ]
    },
    {
      "cell_type": "code",
      "metadata": {
        "id": "mOY54RZVAhia",
        "colab_type": "code",
        "colab": {
          "base_uri": "https://localhost:8080/",
          "height": 35
        },
        "outputId": "94f1d9e7-fe4b-425d-f972-4728d7d67599"
      },
      "source": [
        "%cd '/content/drive/My Drive/Project Main Files/LSTM/'"
      ],
      "execution_count": 7,
      "outputs": [
        {
          "output_type": "stream",
          "text": [
            "/content/drive/My Drive/Project Main Files/LSTM\n"
          ],
          "name": "stdout"
        }
      ]
    },
    {
      "cell_type": "code",
      "metadata": {
        "id": "XgOmP2tcAmxU",
        "colab_type": "code",
        "colab": {
          "base_uri": "https://localhost:8080/",
          "height": 1000
        },
        "outputId": "e5d48028-cfe2-418d-a182-0cb81f9cf2fa"
      },
      "source": [
        "# Start training Model With batch size 64 and Epoch 100 with Single LSTM 1024 Neurons\n",
        "\n",
        "!python3 train_lstm.py"
      ],
      "execution_count": 10,
      "outputs": [
        {
          "output_type": "stream",
          "text": [
            "91 unique characters\n",
            "{\n",
            "  '\\n':   0,\n",
            "  '\\r':   1,\n",
            "  ' ' :   2,\n",
            "  '!' :   3,\n",
            "  '\"' :   4,\n",
            "  '#' :   5,\n",
            "  '&' :   6,\n",
            "  \"'\" :   7,\n",
            "  '(' :   8,\n",
            "  ')' :   9,\n",
            "  '*' :  10,\n",
            "  ',' :  11,\n",
            "  '-' :  12,\n",
            "  '.' :  13,\n",
            "  '/' :  14,\n",
            "  '0' :  15,\n",
            "  '1' :  16,\n",
            "  '2' :  17,\n",
            "  '3' :  18,\n",
            "  '4' :  19,\n",
            "  ...\n",
            "}\n",
            "'We begin wher' ---- characters mapped to int ---- > [50 60  2 57 60 62 64 69  2 78 63 60 73]\n",
            "2019-09-07 18:58:39.615126: I tensorflow/stream_executor/platform/default/dso_loader.cc:44] Successfully opened dynamic library libcuda.so.1\n",
            "2019-09-07 18:58:39.632987: I tensorflow/stream_executor/cuda/cuda_gpu_executor.cc:1006] successful NUMA node read from SysFS had negative value (-1), but there must be at least one NUMA node, so returning NUMA node zero\n",
            "2019-09-07 18:58:39.633706: I tensorflow/core/common_runtime/gpu/gpu_device.cc:1618] Found device 0 with properties: \n",
            "name: Tesla K80 major: 3 minor: 7 memoryClockRate(GHz): 0.8235\n",
            "pciBusID: 0000:00:04.0\n",
            "2019-09-07 18:58:39.633960: I tensorflow/stream_executor/platform/default/dso_loader.cc:44] Successfully opened dynamic library libcudart.so.10.0\n",
            "2019-09-07 18:58:39.635603: I tensorflow/stream_executor/platform/default/dso_loader.cc:44] Successfully opened dynamic library libcublas.so.10.0\n",
            "2019-09-07 18:58:39.636817: I tensorflow/stream_executor/platform/default/dso_loader.cc:44] Successfully opened dynamic library libcufft.so.10.0\n",
            "2019-09-07 18:58:39.637153: I tensorflow/stream_executor/platform/default/dso_loader.cc:44] Successfully opened dynamic library libcurand.so.10.0\n",
            "2019-09-07 18:58:39.638792: I tensorflow/stream_executor/platform/default/dso_loader.cc:44] Successfully opened dynamic library libcusolver.so.10.0\n",
            "2019-09-07 18:58:39.639956: I tensorflow/stream_executor/platform/default/dso_loader.cc:44] Successfully opened dynamic library libcusparse.so.10.0\n",
            "2019-09-07 18:58:39.644017: I tensorflow/stream_executor/platform/default/dso_loader.cc:44] Successfully opened dynamic library libcudnn.so.7\n",
            "2019-09-07 18:58:39.644150: I tensorflow/stream_executor/cuda/cuda_gpu_executor.cc:1006] successful NUMA node read from SysFS had negative value (-1), but there must be at least one NUMA node, so returning NUMA node zero\n",
            "2019-09-07 18:58:39.644880: I tensorflow/stream_executor/cuda/cuda_gpu_executor.cc:1006] successful NUMA node read from SysFS had negative value (-1), but there must be at least one NUMA node, so returning NUMA node zero\n",
            "2019-09-07 18:58:39.645593: I tensorflow/core/common_runtime/gpu/gpu_device.cc:1746] Adding visible gpu devices: 0\n",
            "2019-09-07 18:58:39.646088: I tensorflow/core/platform/cpu_feature_guard.cc:142] Your CPU supports instructions that this TensorFlow binary was not compiled to use: AVX2 FMA\n",
            "2019-09-07 18:58:39.651883: I tensorflow/core/platform/profile_utils/cpu_utils.cc:94] CPU Frequency: 2199995000 Hz\n",
            "2019-09-07 18:58:39.652247: I tensorflow/compiler/xla/service/service.cc:168] XLA service 0x1b1d2c0 executing computations on platform Host. Devices:\n",
            "2019-09-07 18:58:39.652280: I tensorflow/compiler/xla/service/service.cc:175]   StreamExecutor device (0): Host, Default Version\n",
            "2019-09-07 18:58:39.700871: I tensorflow/stream_executor/cuda/cuda_gpu_executor.cc:1006] successful NUMA node read from SysFS had negative value (-1), but there must be at least one NUMA node, so returning NUMA node zero\n",
            "2019-09-07 18:58:39.701747: I tensorflow/compiler/xla/service/service.cc:168] XLA service 0x8362300 executing computations on platform CUDA. Devices:\n",
            "2019-09-07 18:58:39.701774: I tensorflow/compiler/xla/service/service.cc:175]   StreamExecutor device (0): Tesla K80, Compute Capability 3.7\n",
            "2019-09-07 18:58:39.701925: I tensorflow/stream_executor/cuda/cuda_gpu_executor.cc:1006] successful NUMA node read from SysFS had negative value (-1), but there must be at least one NUMA node, so returning NUMA node zero\n",
            "2019-09-07 18:58:39.702652: I tensorflow/core/common_runtime/gpu/gpu_device.cc:1618] Found device 0 with properties: \n",
            "name: Tesla K80 major: 3 minor: 7 memoryClockRate(GHz): 0.8235\n",
            "pciBusID: 0000:00:04.0\n",
            "2019-09-07 18:58:39.702739: I tensorflow/stream_executor/platform/default/dso_loader.cc:44] Successfully opened dynamic library libcudart.so.10.0\n",
            "2019-09-07 18:58:39.702779: I tensorflow/stream_executor/platform/default/dso_loader.cc:44] Successfully opened dynamic library libcublas.so.10.0\n",
            "2019-09-07 18:58:39.702812: I tensorflow/stream_executor/platform/default/dso_loader.cc:44] Successfully opened dynamic library libcufft.so.10.0\n",
            "2019-09-07 18:58:39.702861: I tensorflow/stream_executor/platform/default/dso_loader.cc:44] Successfully opened dynamic library libcurand.so.10.0\n",
            "2019-09-07 18:58:39.702904: I tensorflow/stream_executor/platform/default/dso_loader.cc:44] Successfully opened dynamic library libcusolver.so.10.0\n",
            "2019-09-07 18:58:39.702947: I tensorflow/stream_executor/platform/default/dso_loader.cc:44] Successfully opened dynamic library libcusparse.so.10.0\n",
            "2019-09-07 18:58:39.702978: I tensorflow/stream_executor/platform/default/dso_loader.cc:44] Successfully opened dynamic library libcudnn.so.7\n",
            "2019-09-07 18:58:39.703304: I tensorflow/stream_executor/cuda/cuda_gpu_executor.cc:1006] successful NUMA node read from SysFS had negative value (-1), but there must be at least one NUMA node, so returning NUMA node zero\n",
            "2019-09-07 18:58:39.704202: I tensorflow/stream_executor/cuda/cuda_gpu_executor.cc:1006] successful NUMA node read from SysFS had negative value (-1), but there must be at least one NUMA node, so returning NUMA node zero\n",
            "2019-09-07 18:58:39.705100: I tensorflow/core/common_runtime/gpu/gpu_device.cc:1746] Adding visible gpu devices: 0\n",
            "2019-09-07 18:58:39.705172: I tensorflow/stream_executor/platform/default/dso_loader.cc:44] Successfully opened dynamic library libcudart.so.10.0\n",
            "2019-09-07 18:58:39.706440: I tensorflow/core/common_runtime/gpu/gpu_device.cc:1159] Device interconnect StreamExecutor with strength 1 edge matrix:\n",
            "2019-09-07 18:58:39.706472: I tensorflow/core/common_runtime/gpu/gpu_device.cc:1165]      0 \n",
            "2019-09-07 18:58:39.706484: I tensorflow/core/common_runtime/gpu/gpu_device.cc:1178] 0:   N \n",
            "2019-09-07 18:58:39.706589: I tensorflow/stream_executor/cuda/cuda_gpu_executor.cc:1006] successful NUMA node read from SysFS had negative value (-1), but there must be at least one NUMA node, so returning NUMA node zero\n",
            "2019-09-07 18:58:39.707367: I tensorflow/stream_executor/cuda/cuda_gpu_executor.cc:1006] successful NUMA node read from SysFS had negative value (-1), but there must be at least one NUMA node, so returning NUMA node zero\n",
            "2019-09-07 18:58:39.708017: W tensorflow/core/common_runtime/gpu/gpu_bfc_allocator.cc:39] Overriding allow_growth setting because the TF_FORCE_GPU_ALLOW_GROWTH environment variable is set. Original config value was 0.\n",
            "2019-09-07 18:58:39.708090: I tensorflow/core/common_runtime/gpu/gpu_device.cc:1304] Created TensorFlow device (/job:localhost/replica:0/task:0/device:GPU:0 with 10805 MB memory) -> physical GPU (device: 0, name: Tesla K80, pci bus id: 0000:00:04.0, compute capability: 3.7)\n",
            "W\n",
            "e\n",
            " \n",
            "b\n",
            "e\n",
            "'We begin where “Baelor” left off; after the execution of Ned Stark, we see Ilyn Payne’s bloodied swor'\n",
            "'d and the Hound picking up Ned’s head to show it to the rapturous townsfolk. We then pan to Arya, her'\n",
            "' eyes closed and her face pressed against Yoren’s chest.\\r\\n\\r\\nYoren: Look at me. Look at me! Do you rem'\n",
            "\"ember me now, boy, eh? Remember me? There's a bright boy. You'll be coming with me, boy, and you'll b\"\n",
            "'e keeping your mouth shut.\\r\\n\\r\\nYoren takes Arya with him away from the mob and into a flight of stairs'\n",
            "Input data:  'We begin where “Baelor” left off; after the execution of Ned Stark, we see Ilyn Payne’s bloodied swo'\n",
            "Target data: 'e begin where “Baelor” left off; after the execution of Ned Stark, we see Ilyn Payne’s bloodied swor'\n",
            "Step    0\n",
            "  input: 50 ('W')\n",
            "  expected output: 60 ('e')\n",
            "Step    1\n",
            "  input: 60 ('e')\n",
            "  expected output: 2 (' ')\n",
            "Step    2\n",
            "  input: 2 (' ')\n",
            "  expected output: 57 ('b')\n",
            "Step    3\n",
            "  input: 57 ('b')\n",
            "  expected output: 60 ('e')\n",
            "Step    4\n",
            "  input: 60 ('e')\n",
            "  expected output: 62 ('g')\n",
            "2019-09-07 18:58:42.290551: I tensorflow/stream_executor/platform/default/dso_loader.cc:44] Successfully opened dynamic library libcudnn.so.7\n",
            "2019-09-07 18:58:42.955425: I tensorflow/stream_executor/platform/default/dso_loader.cc:44] Successfully opened dynamic library libcublas.so.10.0\n",
            "(64, 100, 91) # (batch_size, sequence_length, vocab_size)\n",
            "Model: \"sequential\"\n",
            "_________________________________________________________________\n",
            "Layer (type)                 Output Shape              Param #   \n",
            "=================================================================\n",
            "embedding (Embedding)        (64, None, 256)           23296     \n",
            "_________________________________________________________________\n",
            "lstm (LSTM)                  (64, None, 1024)          5246976   \n",
            "_________________________________________________________________\n",
            "dense (Dense)                (64, None, 91)            93275     \n",
            "=================================================================\n",
            "Total params: 5,363,547\n",
            "Trainable params: 5,363,547\n",
            "Non-trainable params: 0\n",
            "_________________________________________________________________\n",
            "Input: \n",
            " 'uld rest easy.\\r\\n\\r\\nThe Strong man decapitates the Quick man with one quick stroke. Hizdahr smiles and'\n",
            "\n",
            "Next Char Predictions: \n",
            " 'W\\'D’xu*\"&J]Dg2Ao XyMq,e…o)\"]cuAk]sB…:”[\" fJ“MX!RZ’In(!R(]LPNUr3oIc(4a]“0Hm.W’9Zx‘&”/ :ONq\\rjyu6gJ7R8G'\n",
            "Prediction shape:  (64, 100, 91)  # (batch_size, sequence_length, vocab_size)\n",
            "scalar_loss:       4.510985\n",
            "Epoch 1/100\n",
            "2019-09-07 18:58:45.090436: W tensorflow/core/grappler/optimizers/implementation_selector.cc:310] Skipping optimization due to error while loading function libraries: Invalid argument: Functions '__inference___backward_cudnn_lstm_with_fallback_2543_2723_specialized_for_StatefulPartitionedCall_at___inference_distributed_function_3456' and '__inference___backward_cudnn_lstm_with_fallback_2543_2723' both implement 'lstm_b0c8b97b-522a-4dd2-ade2-0ec16716c743' but their signatures do not match.\n",
            "     24/Unknown - 8s 344ms/step - loss: 3.6302Traceback (most recent call last):\n",
            "  File \"train_lstm.py\", line 157, in <module>\n",
            "    his = model.fit(dataset, epochs=EPOCHS, callbacks=[checkpoint])\n",
            "  File \"/tensorflow-2.0.0-rc0/python3.6/tensorflow_core/python/keras/engine/training.py\", line 734, in fit\n",
            "    use_multiprocessing=use_multiprocessing)\n",
            "  File \"/tensorflow-2.0.0-rc0/python3.6/tensorflow_core/python/keras/engine/training_v2.py\", line 324, in fit\n",
            "    total_epochs=epochs)\n",
            "  File \"/tensorflow-2.0.0-rc0/python3.6/tensorflow_core/python/keras/engine/training_v2.py\", line 123, in run_one_epoch\n",
            "    batch_outs = execution_function(iterator)\n",
            "  File \"/tensorflow-2.0.0-rc0/python3.6/tensorflow_core/python/keras/engine/training_v2_utils.py\", line 86, in execution_function\n",
            "    distributed_function(input_fn))\n",
            "  File \"/tensorflow-2.0.0-rc0/python3.6/tensorflow_core/python/eager/def_function.py\", line 415, in __call__\n",
            "    return self._stateless_fn(*args, **kwds)  # pylint: disable=not-callable\n",
            "  File \"/tensorflow-2.0.0-rc0/python3.6/tensorflow_core/python/eager/function.py\", line 1822, in __call__\n",
            "    return graph_function._filtered_call(args, kwargs)  # pylint: disable=protected-access\n",
            "  File \"/tensorflow-2.0.0-rc0/python3.6/tensorflow_core/python/eager/function.py\", line 1141, in _filtered_call\n",
            "    self.captured_inputs)\n",
            "  File \"/tensorflow-2.0.0-rc0/python3.6/tensorflow_core/python/eager/function.py\", line 1224, in _call_flat\n",
            "    ctx, args, cancellation_manager=cancellation_manager)\n",
            "  File \"/tensorflow-2.0.0-rc0/python3.6/tensorflow_core/python/eager/function.py\", line 511, in call\n",
            "    ctx=ctx)\n",
            "  File \"/tensorflow-2.0.0-rc0/python3.6/tensorflow_core/python/eager/execute.py\", line 61, in quick_execute\n",
            "    num_outputs)\n",
            "KeyboardInterrupt\n"
          ],
          "name": "stdout"
        }
      ]
    },
    {
      "cell_type": "markdown",
      "metadata": {
        "id": "WSfjtowbBmgE",
        "colab_type": "text"
      },
      "source": [
        "#Training RNN Model \n",
        "\n",
        "Run From below Cells"
      ]
    },
    {
      "cell_type": "code",
      "metadata": {
        "id": "n0tqsvNPBo63",
        "colab_type": "code",
        "colab": {
          "base_uri": "https://localhost:8080/",
          "height": 35
        },
        "outputId": "ecdbf94e-5a26-4b66-aca6-9c078931bed2"
      },
      "source": [
        "%cd '/content/drive/My Drive/Project Main Files/RNN/'"
      ],
      "execution_count": 11,
      "outputs": [
        {
          "output_type": "stream",
          "text": [
            "/content/drive/My Drive/Project Main Files/RNN\n"
          ],
          "name": "stdout"
        }
      ]
    },
    {
      "cell_type": "code",
      "metadata": {
        "id": "-n3w7ufDC3GT",
        "colab_type": "code",
        "colab": {
          "base_uri": "https://localhost:8080/",
          "height": 1000
        },
        "outputId": "15ed72c0-1e75-4b03-9ef7-7dc6567c538d"
      },
      "source": [
        "# Start training Model With batch size 64 and Epoch 100 with Single LSTM 1024 Neurons\n",
        "\n",
        "!python3 train_rnn.py"
      ],
      "execution_count": 12,
      "outputs": [
        {
          "output_type": "stream",
          "text": [
            "Length of text: 1639135 characters\n",
            "We begin where “Baelor” left off; after the execution of Ned Stark, we see Ilyn Payne’s bloodied sword and the Hound picking up Ned’s head to show it to the rapturous townsfolk. We then pan to Arya, her eyes closed and her face pressed against Yoren’\n",
            "91 unique characters\n",
            "{\n",
            "  '\\n':   0,\n",
            "  '\\r':   1,\n",
            "  ' ' :   2,\n",
            "  '!' :   3,\n",
            "  '\"' :   4,\n",
            "  '#' :   5,\n",
            "  '&' :   6,\n",
            "  \"'\" :   7,\n",
            "  '(' :   8,\n",
            "  ')' :   9,\n",
            "  '*' :  10,\n",
            "  ',' :  11,\n",
            "  '-' :  12,\n",
            "  '.' :  13,\n",
            "  '/' :  14,\n",
            "  '0' :  15,\n",
            "  '1' :  16,\n",
            "  '2' :  17,\n",
            "  '3' :  18,\n",
            "  '4' :  19,\n",
            "  ...\n",
            "}\n",
            "'We begin wher' ---- characters mapped to int ---- > [50 60  2 57 60 62 64 69  2 78 63 60 73]\n",
            "2019-09-07 18:59:01.100564: I tensorflow/stream_executor/platform/default/dso_loader.cc:44] Successfully opened dynamic library libcuda.so.1\n",
            "2019-09-07 18:59:01.117291: I tensorflow/stream_executor/cuda/cuda_gpu_executor.cc:1006] successful NUMA node read from SysFS had negative value (-1), but there must be at least one NUMA node, so returning NUMA node zero\n",
            "2019-09-07 18:59:01.118022: I tensorflow/core/common_runtime/gpu/gpu_device.cc:1618] Found device 0 with properties: \n",
            "name: Tesla K80 major: 3 minor: 7 memoryClockRate(GHz): 0.8235\n",
            "pciBusID: 0000:00:04.0\n",
            "2019-09-07 18:59:01.118357: I tensorflow/stream_executor/platform/default/dso_loader.cc:44] Successfully opened dynamic library libcudart.so.10.0\n",
            "2019-09-07 18:59:01.119682: I tensorflow/stream_executor/platform/default/dso_loader.cc:44] Successfully opened dynamic library libcublas.so.10.0\n",
            "2019-09-07 18:59:01.121012: I tensorflow/stream_executor/platform/default/dso_loader.cc:44] Successfully opened dynamic library libcufft.so.10.0\n",
            "2019-09-07 18:59:01.121418: I tensorflow/stream_executor/platform/default/dso_loader.cc:44] Successfully opened dynamic library libcurand.so.10.0\n",
            "2019-09-07 18:59:01.122993: I tensorflow/stream_executor/platform/default/dso_loader.cc:44] Successfully opened dynamic library libcusolver.so.10.0\n",
            "2019-09-07 18:59:01.124238: I tensorflow/stream_executor/platform/default/dso_loader.cc:44] Successfully opened dynamic library libcusparse.so.10.0\n",
            "2019-09-07 18:59:01.127953: I tensorflow/stream_executor/platform/default/dso_loader.cc:44] Successfully opened dynamic library libcudnn.so.7\n",
            "2019-09-07 18:59:01.128068: I tensorflow/stream_executor/cuda/cuda_gpu_executor.cc:1006] successful NUMA node read from SysFS had negative value (-1), but there must be at least one NUMA node, so returning NUMA node zero\n",
            "2019-09-07 18:59:01.128789: I tensorflow/stream_executor/cuda/cuda_gpu_executor.cc:1006] successful NUMA node read from SysFS had negative value (-1), but there must be at least one NUMA node, so returning NUMA node zero\n",
            "2019-09-07 18:59:01.129453: I tensorflow/core/common_runtime/gpu/gpu_device.cc:1746] Adding visible gpu devices: 0\n",
            "2019-09-07 18:59:01.129950: I tensorflow/core/platform/cpu_feature_guard.cc:142] Your CPU supports instructions that this TensorFlow binary was not compiled to use: AVX2 FMA\n",
            "2019-09-07 18:59:01.135586: I tensorflow/core/platform/profile_utils/cpu_utils.cc:94] CPU Frequency: 2199995000 Hz\n",
            "2019-09-07 18:59:01.135890: I tensorflow/compiler/xla/service/service.cc:168] XLA service 0x27912c0 executing computations on platform Host. Devices:\n",
            "2019-09-07 18:59:01.135927: I tensorflow/compiler/xla/service/service.cc:175]   StreamExecutor device (0): Host, Default Version\n",
            "2019-09-07 18:59:01.185669: I tensorflow/stream_executor/cuda/cuda_gpu_executor.cc:1006] successful NUMA node read from SysFS had negative value (-1), but there must be at least one NUMA node, so returning NUMA node zero\n",
            "2019-09-07 18:59:01.186546: I tensorflow/compiler/xla/service/service.cc:168] XLA service 0x8fd6300 executing computations on platform CUDA. Devices:\n",
            "2019-09-07 18:59:01.186585: I tensorflow/compiler/xla/service/service.cc:175]   StreamExecutor device (0): Tesla K80, Compute Capability 3.7\n",
            "2019-09-07 18:59:01.186747: I tensorflow/stream_executor/cuda/cuda_gpu_executor.cc:1006] successful NUMA node read from SysFS had negative value (-1), but there must be at least one NUMA node, so returning NUMA node zero\n",
            "2019-09-07 18:59:01.187448: I tensorflow/core/common_runtime/gpu/gpu_device.cc:1618] Found device 0 with properties: \n",
            "name: Tesla K80 major: 3 minor: 7 memoryClockRate(GHz): 0.8235\n",
            "pciBusID: 0000:00:04.0\n",
            "2019-09-07 18:59:01.187514: I tensorflow/stream_executor/platform/default/dso_loader.cc:44] Successfully opened dynamic library libcudart.so.10.0\n",
            "2019-09-07 18:59:01.187538: I tensorflow/stream_executor/platform/default/dso_loader.cc:44] Successfully opened dynamic library libcublas.so.10.0\n",
            "2019-09-07 18:59:01.187559: I tensorflow/stream_executor/platform/default/dso_loader.cc:44] Successfully opened dynamic library libcufft.so.10.0\n",
            "2019-09-07 18:59:01.187579: I tensorflow/stream_executor/platform/default/dso_loader.cc:44] Successfully opened dynamic library libcurand.so.10.0\n",
            "2019-09-07 18:59:01.187601: I tensorflow/stream_executor/platform/default/dso_loader.cc:44] Successfully opened dynamic library libcusolver.so.10.0\n",
            "2019-09-07 18:59:01.187620: I tensorflow/stream_executor/platform/default/dso_loader.cc:44] Successfully opened dynamic library libcusparse.so.10.0\n",
            "2019-09-07 18:59:01.187644: I tensorflow/stream_executor/platform/default/dso_loader.cc:44] Successfully opened dynamic library libcudnn.so.7\n",
            "2019-09-07 18:59:01.187700: I tensorflow/stream_executor/cuda/cuda_gpu_executor.cc:1006] successful NUMA node read from SysFS had negative value (-1), but there must be at least one NUMA node, so returning NUMA node zero\n",
            "2019-09-07 18:59:01.188423: I tensorflow/stream_executor/cuda/cuda_gpu_executor.cc:1006] successful NUMA node read from SysFS had negative value (-1), but there must be at least one NUMA node, so returning NUMA node zero\n",
            "2019-09-07 18:59:01.189102: I tensorflow/core/common_runtime/gpu/gpu_device.cc:1746] Adding visible gpu devices: 0\n",
            "2019-09-07 18:59:01.189160: I tensorflow/stream_executor/platform/default/dso_loader.cc:44] Successfully opened dynamic library libcudart.so.10.0\n",
            "2019-09-07 18:59:01.190516: I tensorflow/core/common_runtime/gpu/gpu_device.cc:1159] Device interconnect StreamExecutor with strength 1 edge matrix:\n",
            "2019-09-07 18:59:01.190553: I tensorflow/core/common_runtime/gpu/gpu_device.cc:1165]      0 \n",
            "2019-09-07 18:59:01.190575: I tensorflow/core/common_runtime/gpu/gpu_device.cc:1178] 0:   N \n",
            "2019-09-07 18:59:01.190688: I tensorflow/stream_executor/cuda/cuda_gpu_executor.cc:1006] successful NUMA node read from SysFS had negative value (-1), but there must be at least one NUMA node, so returning NUMA node zero\n",
            "2019-09-07 18:59:01.191432: I tensorflow/stream_executor/cuda/cuda_gpu_executor.cc:1006] successful NUMA node read from SysFS had negative value (-1), but there must be at least one NUMA node, so returning NUMA node zero\n",
            "2019-09-07 18:59:01.192164: W tensorflow/core/common_runtime/gpu/gpu_bfc_allocator.cc:39] Overriding allow_growth setting because the TF_FORCE_GPU_ALLOW_GROWTH environment variable is set. Original config value was 0.\n",
            "2019-09-07 18:59:01.192218: I tensorflow/core/common_runtime/gpu/gpu_device.cc:1304] Created TensorFlow device (/job:localhost/replica:0/task:0/device:GPU:0 with 10805 MB memory) -> physical GPU (device: 0, name: Tesla K80, pci bus id: 0000:00:04.0, compute capability: 3.7)\n",
            "W\n",
            "e\n",
            " \n",
            "b\n",
            "e\n",
            "'We begin where “Baelor” left off; after the execution of Ned Stark, we see Ilyn Payne’s bloodied swor'\n",
            "'d and the Hound picking up Ned’s head to show it to the rapturous townsfolk. We then pan to Arya, her'\n",
            "' eyes closed and her face pressed against Yoren’s chest.\\r\\n\\r\\nYoren: Look at me. Look at me! Do you rem'\n",
            "\"ember me now, boy, eh? Remember me? There's a bright boy. You'll be coming with me, boy, and you'll b\"\n",
            "'e keeping your mouth shut.\\r\\n\\r\\nYoren takes Arya with him away from the mob and into a flight of stairs'\n",
            "Input data:  'We begin where “Baelor” left off; after the execution of Ned Stark, we see Ilyn Payne’s bloodied swo'\n",
            "Target data: 'e begin where “Baelor” left off; after the execution of Ned Stark, we see Ilyn Payne’s bloodied swor'\n",
            "Step    0\n",
            "  input: 50 ('W')\n",
            "  expected output: 60 ('e')\n",
            "Step    1\n",
            "  input: 60 ('e')\n",
            "  expected output: 2 (' ')\n",
            "Step    2\n",
            "  input: 2 (' ')\n",
            "  expected output: 57 ('b')\n",
            "Step    3\n",
            "  input: 57 ('b')\n",
            "  expected output: 60 ('e')\n",
            "Step    4\n",
            "  input: 60 ('e')\n",
            "  expected output: 62 ('g')\n",
            "2019-09-07 18:59:03.709215: I tensorflow/stream_executor/platform/default/dso_loader.cc:44] Successfully opened dynamic library libcublas.so.10.0\n",
            "(64, 100, 91) # (batch_size, sequence_length, vocab_size)\n",
            "Model: \"sequential\"\n",
            "_________________________________________________________________\n",
            "Layer (type)                 Output Shape              Param #   \n",
            "=================================================================\n",
            "embedding (Embedding)        (64, None, 256)           23296     \n",
            "_________________________________________________________________\n",
            "simple_rnn (SimpleRNN)       (64, None, 1024)          1311744   \n",
            "_________________________________________________________________\n",
            "dense (Dense)                (64, None, 91)            93275     \n",
            "=================================================================\n",
            "Total params: 1,428,315\n",
            "Trainable params: 1,428,315\n",
            "Non-trainable params: 0\n",
            "_________________________________________________________________\n",
            "Input: \n",
            " 'he laundry basket out of her hands and trap her.\\r\\n\\r\\nBRAND: There’s no need to be rude.\\r\\n\\r\\nDERRYK: We'\n",
            "\n",
            "Next Char Predictions: \n",
            " ':.\"U;98X!rOc“STZmTF;sqDLsêXQ7#JiJ:5GK7HvFn4dMwHD8 s6xw…Rij4*o–c,z[XA\\rrm0M1(WbK(H:m’c-)S,iê9ju”-’QémZ'\n",
            "Prediction shape:  (64, 100, 91)  # (batch_size, sequence_length, vocab_size)\n",
            "scalar_loss:       4.516615\n",
            "Epoch 1/100\n",
            "     27/Unknown - 7s 247ms/step - loss: 3.6346Traceback (most recent call last):\n",
            "  File \"train_rnn.py\", line 155, in <module>\n",
            "    history = model.fit(dataset, epochs=EPOCHS, callbacks=[checkpoint_callback])\n",
            "  File \"/tensorflow-2.0.0-rc0/python3.6/tensorflow_core/python/keras/engine/training.py\", line 734, in fit\n",
            "    use_multiprocessing=use_multiprocessing)\n",
            "  File \"/tensorflow-2.0.0-rc0/python3.6/tensorflow_core/python/keras/engine/training_v2.py\", line 324, in fit\n",
            "    total_epochs=epochs)\n",
            "  File \"/tensorflow-2.0.0-rc0/python3.6/tensorflow_core/python/keras/engine/training_v2.py\", line 123, in run_one_epoch\n",
            "    batch_outs = execution_function(iterator)\n",
            "  File \"/tensorflow-2.0.0-rc0/python3.6/tensorflow_core/python/keras/engine/training_v2_utils.py\", line 86, in execution_function\n",
            "    distributed_function(input_fn))\n",
            "  File \"/tensorflow-2.0.0-rc0/python3.6/tensorflow_core/python/eager/def_function.py\", line 415, in __call__\n",
            "    return self._stateless_fn(*args, **kwds)  # pylint: disable=not-callable\n",
            "  File \"/tensorflow-2.0.0-rc0/python3.6/tensorflow_core/python/eager/function.py\", line 1822, in __call__\n",
            "    return graph_function._filtered_call(args, kwargs)  # pylint: disable=protected-access\n",
            "  File \"/tensorflow-2.0.0-rc0/python3.6/tensorflow_core/python/eager/function.py\", line 1141, in _filtered_call\n",
            "    self.captured_inputs)\n",
            "  File \"/tensorflow-2.0.0-rc0/python3.6/tensorflow_core/python/eager/function.py\", line 1224, in _call_flat\n",
            "    ctx, args, cancellation_manager=cancellation_manager)\n",
            "  File \"/tensorflow-2.0.0-rc0/python3.6/tensorflow_core/python/eager/function.py\", line 511, in call\n",
            "    ctx=ctx)\n",
            "  File \"/tensorflow-2.0.0-rc0/python3.6/tensorflow_core/python/eager/execute.py\", line 61, in quick_execute\n",
            "    num_outputs)\n",
            "KeyboardInterrupt\n"
          ],
          "name": "stdout"
        }
      ]
    },
    {
      "cell_type": "markdown",
      "metadata": {
        "id": "rQHzLjAQDSbb",
        "colab_type": "text"
      },
      "source": [
        "# Training GPT-2 Language Model \n",
        "Run From below Cells\n",
        "\n",
        "Start training Model With BATCH_SIZE 1 for Constantly Training with Evaluation Batch size 2 "
      ]
    },
    {
      "cell_type": "code",
      "metadata": {
        "id": "hXGqsdYxDRrr",
        "colab_type": "code",
        "colab": {
          "base_uri": "https://localhost:8080/",
          "height": 35
        },
        "outputId": "b9dbb832-2460-4462-8009-891d1494c04d"
      },
      "source": [
        "%cd /content/drive/My Drive/Project Main Files/GPT-2/gpt-2\n",
        "!export PYTHONIOENCODING=UTF-8"
      ],
      "execution_count": 5,
      "outputs": [
        {
          "output_type": "stream",
          "text": [
            "/content/drive/My Drive/Project Main Files/GPT-2/gpt-2\n"
          ],
          "name": "stdout"
        }
      ]
    },
    {
      "cell_type": "code",
      "metadata": {
        "id": "2joMgXlTGxZ5",
        "colab_type": "code",
        "colab": {
          "base_uri": "https://localhost:8080/",
          "height": 1000
        },
        "outputId": "4dc90f0d-7e63-44ad-90a5-91dae14c25c9"
      },
      "source": [
        "!chmod +x train.py\n",
        "\n",
        "!PYTHONPATH=src ./train.py --dataset 'data/GoT_raw.txt' --model_name '345M'"
      ],
      "execution_count": 12,
      "outputs": [
        {
          "output_type": "stream",
          "text": [
            "WARNING:tensorflow:From /content/drive/My Drive/Project Main Files/GPT-2/gpt-2/src/model.py:147: The name tf.AUTO_REUSE is deprecated. Please use tf.compat.v1.AUTO_REUSE instead.\n",
            "\n",
            "WARNING:tensorflow:From /content/drive/My Drive/Project Main Files/GPT-2/gpt-2/src/memory_saving_gradients.py:13: The name tf.GraphKeys is deprecated. Please use tf.compat.v1.GraphKeys instead.\n",
            "\n",
            "WARNING:tensorflow:From ./train.py:87: The name tf.ConfigProto is deprecated. Please use tf.compat.v1.ConfigProto instead.\n",
            "\n",
            "WARNING:tensorflow:From ./train.py:90: The name tf.Session is deprecated. Please use tf.compat.v1.Session instead.\n",
            "\n",
            "2019-09-07 19:11:35.032847: I tensorflow/core/platform/profile_utils/cpu_utils.cc:94] CPU Frequency: 2199995000 Hz\n",
            "2019-09-07 19:11:35.033173: I tensorflow/compiler/xla/service/service.cc:168] XLA service 0x28d7100 executing computations on platform Host. Devices:\n",
            "2019-09-07 19:11:35.033220: I tensorflow/compiler/xla/service/service.cc:175]   StreamExecutor device (0): <undefined>, <undefined>\n",
            "2019-09-07 19:11:35.053844: I tensorflow/stream_executor/platform/default/dso_loader.cc:42] Successfully opened dynamic library libcuda.so.1\n",
            "2019-09-07 19:11:35.140180: I tensorflow/stream_executor/cuda/cuda_gpu_executor.cc:1005] successful NUMA node read from SysFS had negative value (-1), but there must be at least one NUMA node, so returning NUMA node zero\n",
            "2019-09-07 19:11:35.141075: I tensorflow/compiler/xla/service/service.cc:168] XLA service 0x28d72c0 executing computations on platform CUDA. Devices:\n",
            "2019-09-07 19:11:35.141108: I tensorflow/compiler/xla/service/service.cc:175]   StreamExecutor device (0): Tesla K80, Compute Capability 3.7\n",
            "2019-09-07 19:11:35.141284: I tensorflow/stream_executor/cuda/cuda_gpu_executor.cc:1005] successful NUMA node read from SysFS had negative value (-1), but there must be at least one NUMA node, so returning NUMA node zero\n",
            "2019-09-07 19:11:35.141996: I tensorflow/core/common_runtime/gpu/gpu_device.cc:1640] Found device 0 with properties: \n",
            "name: Tesla K80 major: 3 minor: 7 memoryClockRate(GHz): 0.8235\n",
            "pciBusID: 0000:00:04.0\n",
            "2019-09-07 19:11:35.142474: I tensorflow/stream_executor/platform/default/dso_loader.cc:42] Successfully opened dynamic library libcudart.so.10.0\n",
            "2019-09-07 19:11:35.144474: I tensorflow/stream_executor/platform/default/dso_loader.cc:42] Successfully opened dynamic library libcublas.so.10.0\n",
            "2019-09-07 19:11:35.146002: I tensorflow/stream_executor/platform/default/dso_loader.cc:42] Successfully opened dynamic library libcufft.so.10.0\n",
            "2019-09-07 19:11:35.146706: I tensorflow/stream_executor/platform/default/dso_loader.cc:42] Successfully opened dynamic library libcurand.so.10.0\n",
            "2019-09-07 19:11:35.149007: I tensorflow/stream_executor/platform/default/dso_loader.cc:42] Successfully opened dynamic library libcusolver.so.10.0\n",
            "2019-09-07 19:11:35.151362: I tensorflow/stream_executor/platform/default/dso_loader.cc:42] Successfully opened dynamic library libcusparse.so.10.0\n",
            "2019-09-07 19:11:35.157812: I tensorflow/stream_executor/platform/default/dso_loader.cc:42] Successfully opened dynamic library libcudnn.so.7\n",
            "2019-09-07 19:11:35.157930: I tensorflow/stream_executor/cuda/cuda_gpu_executor.cc:1005] successful NUMA node read from SysFS had negative value (-1), but there must be at least one NUMA node, so returning NUMA node zero\n",
            "2019-09-07 19:11:35.158789: I tensorflow/stream_executor/cuda/cuda_gpu_executor.cc:1005] successful NUMA node read from SysFS had negative value (-1), but there must be at least one NUMA node, so returning NUMA node zero\n",
            "2019-09-07 19:11:35.159577: I tensorflow/core/common_runtime/gpu/gpu_device.cc:1763] Adding visible gpu devices: 0\n",
            "2019-09-07 19:11:35.159678: I tensorflow/stream_executor/platform/default/dso_loader.cc:42] Successfully opened dynamic library libcudart.so.10.0\n",
            "2019-09-07 19:11:35.161498: I tensorflow/core/common_runtime/gpu/gpu_device.cc:1181] Device interconnect StreamExecutor with strength 1 edge matrix:\n",
            "2019-09-07 19:11:35.161551: I tensorflow/core/common_runtime/gpu/gpu_device.cc:1187]      0 \n",
            "2019-09-07 19:11:35.161594: I tensorflow/core/common_runtime/gpu/gpu_device.cc:1200] 0:   N \n",
            "2019-09-07 19:11:35.161809: I tensorflow/stream_executor/cuda/cuda_gpu_executor.cc:1005] successful NUMA node read from SysFS had negative value (-1), but there must be at least one NUMA node, so returning NUMA node zero\n",
            "2019-09-07 19:11:35.162809: I tensorflow/stream_executor/cuda/cuda_gpu_executor.cc:1005] successful NUMA node read from SysFS had negative value (-1), but there must be at least one NUMA node, so returning NUMA node zero\n",
            "2019-09-07 19:11:35.166140: I tensorflow/core/common_runtime/gpu/gpu_device.cc:1326] Created TensorFlow device (/job:localhost/replica:0/task:0/device:GPU:0 with 10805 MB memory) -> physical GPU (device: 0, name: Tesla K80, pci bus id: 0000:00:04.0, compute capability: 3.7)\n",
            "WARNING:tensorflow:From ./train.py:91: The name tf.placeholder is deprecated. Please use tf.compat.v1.placeholder instead.\n",
            "\n",
            "WARNING:tensorflow:From ./train.py:66: add_dispatch_support.<locals>.wrapper (from tensorflow.python.ops.array_ops) is deprecated and will be removed in a future version.\n",
            "Instructions for updating:\n",
            "Use tf.where in 2.0, which has the same broadcast rule as np.where\n",
            "WARNING:tensorflow:From /content/drive/My Drive/Project Main Files/GPT-2/gpt-2/src/sample.py:65: to_float (from tensorflow.python.ops.math_ops) is deprecated and will be removed in a future version.\n",
            "Instructions for updating:\n",
            "Use `tf.cast` instead.\n",
            "WARNING:tensorflow:From /content/drive/My Drive/Project Main Files/GPT-2/gpt-2/src/sample.py:70: multinomial (from tensorflow.python.ops.random_ops) is deprecated and will be removed in a future version.\n",
            "Instructions for updating:\n",
            "Use `tf.random.categorical` instead.\n",
            "WARNING:tensorflow:From ./train.py:120: The name tf.train.AdamOptimizer is deprecated. Please use tf.compat.v1.train.AdamOptimizer instead.\n",
            "\n",
            "WARNING:tensorflow:From ./train.py:143: The name tf.summary.scalar is deprecated. Please use tf.compat.v1.summary.scalar instead.\n",
            "\n",
            "WARNING:tensorflow:From ./train.py:146: The name tf.summary.merge is deprecated. Please use tf.compat.v1.summary.merge instead.\n",
            "\n",
            "WARNING:tensorflow:From ./train.py:148: The name tf.summary.FileWriter is deprecated. Please use tf.compat.v1.summary.FileWriter instead.\n",
            "\n",
            "WARNING:tensorflow:From ./train.py:151: The name tf.train.Saver is deprecated. Please use tf.compat.v1.train.Saver instead.\n",
            "\n",
            "Loading checkpoint models/345M/model.ckpt\n",
            "WARNING:tensorflow:From /usr/local/lib/python3.6/dist-packages/tensorflow/python/training/saver.py:1276: checkpoint_exists (from tensorflow.python.training.checkpoint_management) is deprecated and will be removed in a future version.\n",
            "Instructions for updating:\n",
            "Use standard file APIs to check for files with this prefix.\n",
            "Loading dataset...\n",
            "100% 1/1 [00:03<00:00,  3.22s/it]\n",
            "dataset has 473212 tokens\n",
            "Training...\n",
            "2019-09-07 19:12:37.316324: W tensorflow/compiler/jit/mark_for_compilation_pass.cc:1412] (One-time warning): Not using XLA:CPU for cluster because envvar TF_XLA_FLAGS=--tf_xla_cpu_global_jit was not set.  If you want XLA:CPU, either set that envvar, or use experimental_jit_scope to enable XLA:CPU.  To confirm that XLA is active, pass --vmodule=xla_compilation_cache=1 (as a proper command-line flag, not via TF_XLA_FLAGS) or set the envvar XLA_FLAGS=--xla_hlo_profile.\n",
            "2019-09-07 19:12:38.056110: I tensorflow/stream_executor/platform/default/dso_loader.cc:42] Successfully opened dynamic library libcublas.so.10.0\n",
            "interrupted\n",
            "Saving checkpoint2/run1/model-1\n"
          ],
          "name": "stdout"
        }
      ]
    }
  ]
}